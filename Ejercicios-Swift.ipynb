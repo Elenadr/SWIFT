{
 "cells": [
  {
   "cell_type": "markdown",
   "metadata": {},
   "source": [
    "# Ejercicios de Swift\n",
    "\n",
    "27 de Octubre de 2021"
   ]
  },
  {
   "cell_type": "markdown",
   "metadata": {},
   "source": [
    "## Ejercicio 1\n",
    "\n",
    "Escribe una función que calcule si un año dado es o no bisiesto.\n",
    "\n",
    "Los años bisiestos (_leap year_, en inglés) tienen un día más el mes de Febrero. Las siguientes reglas pueden utilizarse para saber si un año es bisiesto:\n",
    "\n",
    "* Los años divisibles por 4 son bisiestos, excepto si son divisibles por 100.\n",
    "* En caso de ser divisible por 100, un año es bisiesto si además es divisible por 400.\n",
    "* A efectos de este ejercicio, se considera que los años negativos no son bisiestos.\n",
    "\n",
    "La función debe tener la declaración que se muestra en la siguiente celda. Debes introducir tu código pero mantener nombre, parámetros de entrada y de salida."
   ]
  },
  {
   "cell_type": "markdown",
   "metadata": {},
   "source": [
    "### 1.1. Implementa la función según lo indicado (2 puntos)"
   ]
  },
  {
   "cell_type": "code",
   "execution_count": 57,
   "metadata": {},
   "outputs": [],
   "source": [
    "func isLeap(year: Int) -> Bool {\n",
    "    // Aquí va tu código\n",
    "    let leapYear = false\n",
    "        guard year > 0 else{\n",
    "            return false\n",
    "        } \n",
    "        if (year % 4 == 0) && (year % 100 != 0){\n",
    "            return true\n",
    "        }else if (year % 100 == 0 && year % 400 == 0){\n",
    "                        return true\n",
    "        }\n",
    "\n",
    "    \n",
    "    return leapYear\n",
    "}\n"
   ]
  },
  {
   "cell_type": "markdown",
   "metadata": {},
   "source": [
    "La siguiente celda te ayudará a probar tu implementación. El año 1900 no fue bisiesto, pero el año 2000 sí. Si la celda **no imprime nada** es que las condiciones que se comprueban son correctas. En caso de que haya algún error en los casos de prueba, se mostrará un mensaje."
   ]
  },
  {
   "cell_type": "code",
   "execution_count": 58,
   "metadata": {},
   "outputs": [],
   "source": [
    "func testLeap(_ year: Int, _ actual: Bool) {\n",
    "    if isLeap(year: year) != actual {\n",
    "        if actual {\n",
    "            print(\"El año \\(year) fue bisiesto, pero tu código dice que no.\")\n",
    "        } else {\n",
    "            print(\"El año \\(year) no fue bisiesto, pero tu código dice que sí.\")\n",
    "        }\n",
    "    }\n",
    "}\n",
    "\n",
    "testLeap(1900, false)\n",
    "testLeap(2000, true)\n",
    "testLeap(1200, true)"
   ]
  },
  {
   "cell_type": "markdown",
   "metadata": {},
   "source": [
    "Igualmente la siguiente celda comprobará algunos años y mostrará mensajes en caso que la implementación no sea correcta."
   ]
  },
  {
   "cell_type": "code",
   "execution_count": 59,
   "metadata": {},
   "outputs": [],
   "source": [
    "let someLeaps = [1996, 2000, 2004, 2008, 2012, 2016, 2020]\n",
    "let nonLeaps =  [-2000, 1998, 1900, 2007, 2014, 2030, 2050]\n",
    "let years = Set(someLeaps + nonLeaps)\n",
    "for year in years {\n",
    "    testLeap(year, someLeaps.contains(year))\n",
    "}"
   ]
  },
  {
   "cell_type": "markdown",
   "metadata": {},
   "source": [
    "### 1.2. Extensión `isLeapYear` (1 punto)\n",
    "\n",
    "Escribe como extensión de `Int` una propiedad llamada **`isLeapYear`** que indique si un número determinado corresponde o no a un año bisiesto. Apóyate en la función que ya has implementado, no vuelvas a repetir el mismo código."
   ]
  },
  {
   "cell_type": "code",
   "execution_count": 72,
   "metadata": {},
   "outputs": [],
   "source": [
    "extension Int {\n",
    "    var isLeapYear: Bool{\n",
    "        return(isLeap(year: self))\n",
    "    }\n",
    "\n",
    "}"
   ]
  },
  {
   "cell_type": "markdown",
   "metadata": {},
   "source": [
    "Ejemplos de uso y pruebas:"
   ]
  },
  {
   "cell_type": "code",
   "execution_count": 73,
   "metadata": {},
   "outputs": [],
   "source": [
    "if 1900.isLeapYear { print(\"Error, el año 1900 no fue bisiesto.\") }\n",
    "\n",
    "for year in someLeaps {\n",
    "    if !year.isLeapYear { print(\"Error, el año \\(year) fue bisiesto.\")}\n",
    "}\n",
    "\n",
    "for year in nonLeaps {\n",
    "    if year.isLeapYear { print(\"Error, el año \\(year) no fue bisiesto.\")}\n",
    "}"
   ]
  },
  {
   "cell_type": "markdown",
   "metadata": {},
   "source": [
    "### 1.3. Encuentra años bisiestos en un rango (1 punto)\n",
    "\n",
    "Escribe código, en formato libre, para encontrar los años bisiestos comprendidos **en un rango de números enteros**."
   ]
  },
  {
   "cell_type": "code",
   "execution_count": 79,
   "metadata": {},
   "outputs": [
    {
     "name": "stdout",
     "output_type": "stream",
     "text": [
      "[204, 208, 212, 216, 220, 224, 228, 232, 236, 240, 244, 248, 252, 256, 260, 264, 268, 272, 276, 280, 284, 288, 292, 296, 304, 308, 312, 316, 320, 324, 328, 332, 336, 340, 344, 348, 352, 356, 360, 364, 368, 372, 376, 380, 384, 388, 392, 396, 400, 404, 408, 412, 416, 420, 424, 428, 432, 436, 440, 444, 448, 452, 456, 460, 464, 468, 472, 476, 480, 484, 488, 492, 496]\r\n"
     ]
    }
   ],
   "source": [
    "func rangeOfLeapYears (_ min: Int, _ max: Int) -> [Int]{\n",
    "    guard (min > 0 && max > min ) else{\n",
    "        return []\n",
    "    }\n",
    "    var years = [Int]()\n",
    "    for x in min...max{\n",
    "        if (x.isLeapYear){\n",
    "            years.append(x)\n",
    "        }\n",
    "    }\n",
    "    return years\n",
    "}\n",
    "print(rangeOfLeapYears(200, 500))"
   ]
  },
  {
   "cell_type": "markdown",
   "metadata": {},
   "source": [
    "### 1.4. Encuentra _siglos_ bisiestos (1 punto)"
   ]
  },
  {
   "cell_type": "markdown",
   "metadata": {},
   "source": [
    "Hemos visto que el año 2000 fue bisiesto pero el 1900 no. Escribe código, en formato libre, para encontrar los años múltiples de 100 que son bisiestos, empezando en el 500 y terminando en el 2500.\n",
    "\n",
    "**No** verifiques _todos_ los años comprendidos entre 500 y 2500, sólo los múltiplos de 100."
   ]
  },
  {
   "cell_type": "code",
   "execution_count": 84,
   "metadata": {},
   "outputs": [
    {
     "name": "stdout",
     "output_type": "stream",
     "text": [
      "[800, 1200, 1600, 2000, 2400]\r\n"
     ]
    }
   ],
   "source": [
    "func rangeOfLeapYears (_ min: Int = 500, _ max: Int = 2500) -> [Int]{\n",
    "    guard (min > 0 && max > min ) else{\n",
    "        return []\n",
    "    }\n",
    "    var years = [Int]()\n",
    "    for x in min...max{\n",
    "        if ( x % 100 == 0 && x.isLeapYear){\n",
    "            years.append(x)\n",
    "        }\n",
    "    }\n",
    "    return years\n",
    "}\n",
    "print(rangeOfLeapYears())"
   ]
  },
  {
   "cell_type": "markdown",
   "metadata": {},
   "source": [
    "----"
   ]
  },
  {
   "cell_type": "markdown",
   "metadata": {},
   "source": [
    "## Ejercicio 2\n",
    "\n",
    "En un programa de dibujo tenemos la definición de la clase `Shape` que se indica a continuación."
   ]
  },
  {
   "cell_type": "code",
   "execution_count": 88,
   "metadata": {},
   "outputs": [],
   "source": [
    "struct Point {\n",
    "    var x: Double\n",
    "    var y: Double\n",
    "}\n",
    "\n",
    "class Shape: CustomStringConvertible {\n",
    "    var origin: Point\n",
    "    \n",
    "    init(origin: Point = Point(x: 0, y: 0)) {\n",
    "        self.origin = origin\n",
    "    }\n",
    "    \n",
    "    func area() -> Double {\n",
    "        return -1\n",
    "    }\n",
    "\n",
    "    var description: String { \"\\(type(of:self))@(\\(origin.x),\\(origin.y))\"}\n",
    "}"
   ]
  },
  {
   "cell_type": "markdown",
   "metadata": {},
   "source": [
    "### 2.1. Implementa las clases `Rectangle`, `Square`, `Elipse`, `Circle`  (2 puntos)\n",
    "\n",
    "Las clases deben seguir la siguiente jerarquía de herencia:\n",
    "![herencia](img/herencia.png)\n",
    "\n",
    "Esto quiere decir que `Circle` desciende de `Elipse`, que a su vez desciende de `Shape`. Igualmente `Square` desciende de `Rectangle`."
   ]
  },
  {
   "cell_type": "markdown",
   "metadata": {},
   "source": [
    "Además, las clases **deben inicializarse** con los parámetros que se indican en el siguiente ejemplo:\n",
    "\n",
    "```swift\n",
    "let zero = Point(0, 0)\n",
    "let rectangle = Rectangle(origin: zero, width: 5.2, height: 8)\n",
    "let square = Square(origin: zero, side: 6)\n",
    "let elipse = Elipse(origin: zero, a: 6, b: 2)\n",
    "let circle = Circle(origin: zero, r: 5)\n",
    "```\n",
    "\n",
    "En el caso de la elipse, `a` es el semieje mayor y `b` el semieje menor. Todas las dimensiones son `Double`."
   ]
  },
  {
   "cell_type": "code",
   "execution_count": 90,
   "metadata": {},
   "outputs": [],
   "source": [
    "class Rectangle: Shape {\n",
    "    var width: Double = 5.2\n",
    "    var height: Double = 8\n",
    "    \n",
    "    init(origin: Point = Point(x: 0, y: 0), width: Double, height: Double) {\n",
    "        self.width = width\n",
    "        self.height = height\n",
    "        super.init(origin: origin)\n",
    "    }\n",
    "    \n",
    "}"
   ]
  },
  {
   "cell_type": "code",
   "execution_count": 97,
   "metadata": {},
   "outputs": [],
   "source": [
    "class Square: Rectangle {    \n",
    "    init(origin: Point = Point(x: 0, y: 0), side: Double = 6) {\n",
    "        super.init(origin: origin, width: side, height: side)\n",
    "    }\n",
    "    \n",
    "}"
   ]
  },
  {
   "cell_type": "code",
   "execution_count": 102,
   "metadata": {},
   "outputs": [],
   "source": [
    "class Elipse: Shape {\n",
    "    var a: Double = 6\n",
    "    var b: Double = 2\n",
    "    \n",
    "    init(origin: Point = Point(x: 0, y: 0), a: Double, b: Double) {\n",
    "        self.a = a\n",
    "        self.b = b\n",
    "        super.init(origin: origin)\n",
    "    }\n",
    "\n",
    "}"
   ]
  },
  {
   "cell_type": "code",
   "execution_count": 104,
   "metadata": {},
   "outputs": [],
   "source": [
    "class Circle: Elipse {\n",
    "    init(origin: Point = Point(x: 0, y: 0), r: Double = 5) {\n",
    "        super.init(origin: origin, a: r, b: r)\n",
    "    }\n",
    "\n",
    "}"
   ]
  },
  {
   "cell_type": "markdown",
   "metadata": {},
   "source": [
    "A continuación suministramos código inicial de prueba para verificar que lo implementado responde a lo especificado. Las pruebas **no son exhaustivas**, debes hacer las tuyas propias para verificar que todo funciona correctamente."
   ]
  },
  {
   "cell_type": "code",
   "execution_count": 105,
   "metadata": {},
   "outputs": [],
   "source": [
    "extension Point {\n",
    "    static let zero = Point(x:0, y:0)\n",
    "}\n",
    "\n",
    "let c = Circle(origin: Point.zero, r: 3.8)\n",
    "if c.a != 3.8 { print(\"Error en creación de Circle, recuerda que debe descender de Elipse.\") }\n",
    "if c.b != 3.8 { print(\"Error en creación de Circle, recuerda que debe descender de Elipse.\") }\n",
    "if !(c is Shape) { print(\"Error: Todas las formas deben descender de Shape.\")}\n",
    "\n",
    "let sq = Square(origin: Point.zero, side: 4)\n",
    "if !(sq is Rectangle) { print(\"Error: Square debe descender de Rectangle.\")}\n",
    "if !(sq is Shape) { print(\"Error: Todas las formas deben descender de Shape.\")}"
   ]
  },
  {
   "cell_type": "markdown",
   "metadata": {},
   "source": [
    "### 2.2 Añade la implementación de `area` en las subclases que lo necesiten (2 puntos)\n",
    "\n",
    "La función `area()` debe calcular el área de la figura correspondiente. En el caso de `Shape`, observa que  devuelve `-1` para indicar que no se conoce el área de esta figura (necesitamos más información):"
   ]
  },
  {
   "cell_type": "markdown",
   "metadata": {},
   "source": [
    "Añade una versión apropiada de esta función a las figuras que lo necesiten. Si tu implementación es correcta, sólo necesitarás hacerlo en `Rectangle` y en `Elipse`.\n",
    "\n",
    "Recuerda que el área de la elipse es **`𝜋ab`**\n",
    "\n",
    "**Repite a continuación tu código de las celdas anteriores, pero añadiendo la función `area`.** En el entorno Jupyter es necesario repetir la implementación para que el compilador la \"cargue\" en memoria con la nueva función."
   ]
  },
  {
   "cell_type": "code",
   "execution_count": 113,
   "metadata": {},
   "outputs": [],
   "source": [
    "class Rectangle: Shape {\n",
    "    var width: Double = 5.2\n",
    "    var height: Double = 8\n",
    "    \n",
    "    init(origin: Point = Point(x: 0, y: 0), width: Double, height: Double) {\n",
    "        self.width = width\n",
    "        self.height = height\n",
    "        super.init(origin: origin)\n",
    "    }\n",
    "    override func area() -> Double {\n",
    "        return self.width * self.height\n",
    "    }\n",
    "    \n",
    "}"
   ]
  },
  {
   "cell_type": "code",
   "execution_count": 114,
   "metadata": {},
   "outputs": [],
   "source": [
    "class Square: Rectangle {    \n",
    "    init(origin: Point = Point(x: 0, y: 0), side: Double = 6) {\n",
    "        super.init(origin: origin, width: side, height: side)\n",
    "    }\n",
    "    \n",
    "}"
   ]
  },
  {
   "cell_type": "code",
   "execution_count": 115,
   "metadata": {},
   "outputs": [],
   "source": [
    "class Elipse: Shape {\n",
    "    var a: Double = 6\n",
    "    var b: Double = 2\n",
    "    \n",
    "    init(origin: Point = Point(x: 0, y: 0), a: Double, b: Double) {\n",
    "        self.a = a\n",
    "        self.b = b\n",
    "        super.init(origin: origin)\n",
    "    }\n",
    "    override func area() -> Double {\n",
    "        return Double.pi * self.a * self.b\n",
    "    }\n",
    "\n",
    "}"
   ]
  },
  {
   "cell_type": "code",
   "execution_count": 116,
   "metadata": {},
   "outputs": [],
   "source": [
    "class Circle: Elipse {\n",
    "    init(origin: Point = Point(x: 0, y: 0), r: Double = 5) {\n",
    "        super.init(origin: origin, a: r, b: r)\n",
    "    }\n",
    "\n",
    "}"
   ]
  },
  {
   "cell_type": "markdown",
   "metadata": {},
   "source": [
    "La siguiente celda realiza algunas comprobaciones básicas para ayudarte a verificar si lo que has hecho está bien. Si se muestra algún mensaje en pantalla, es que ha habido algún error."
   ]
  },
  {
   "cell_type": "code",
   "execution_count": 117,
   "metadata": {},
   "outputs": [],
   "source": [
    "func testArea(_ shape: Shape, expected: Double) {\n",
    "    let actual = shape.area()\n",
    "    if actual != expected {\n",
    "        print(\"El área de \\(shape) debe ser \\(expected), pero en tu código sale \\(actual).\")\n",
    "    }\n",
    "}\n",
    "\n",
    "testArea(Square(origin: Point.zero, side: 4), expected: 16)\n",
    "testArea(Circle(origin: Point.zero, r: 4), expected: Double.pi * 16)"
   ]
  },
  {
   "cell_type": "markdown",
   "metadata": {},
   "source": [
    "### Modifica `area` para lanzar excepciones (1 punto)\n",
    "\n",
    "Modifica `area` para que lance excepciones en los siguientes casos:\n",
    "* Cuando se trata de calcular el area de un objeto `Shape`. Debe lanzarse una excepción en lugar de devolver `-1`.\n",
    "* Si alguna de las dimensiones de la figura es negativa."
   ]
  },
  {
   "cell_type": "markdown",
   "metadata": {},
   "source": [
    "El siguiente enumerado modela los errores que debes lanzar en cada caso:"
   ]
  },
  {
   "cell_type": "code",
   "execution_count": 119,
   "metadata": {},
   "outputs": [],
   "source": [
    "enum ShapeError: Error {\n",
    "    case unknownArea       // No se puede calcular el area de un `Shape`\n",
    "    case wrongDimensions   // Alguna de las dimensiones es negativa\n",
    "}"
   ]
  },
  {
   "cell_type": "markdown",
   "metadata": {},
   "source": [
    "De nuevo, **copia tu implementación (incluyendo la de `Shape`) en las siguientes celdas, modificando adecuadamente la definición de `area()`**."
   ]
  },
  {
   "cell_type": "code",
   "execution_count": 120,
   "metadata": {},
   "outputs": [],
   "source": [
    "class Shape: CustomStringConvertible {\n",
    "    var origin: Point\n",
    "    \n",
    "    init(origin: Point = Point(x: 0, y: 0)) {\n",
    "        self.origin = origin\n",
    "    }\n",
    "    \n",
    "    func area() throws -> Double {\n",
    "        throw ShapeError.unknownArea\n",
    "    }\n",
    "\n",
    "    var description: String { \"\\(type(of:self))@(\\(origin.x),\\(origin.y))\"}\n",
    "}"
   ]
  },
  {
   "cell_type": "code",
   "execution_count": 123,
   "metadata": {},
   "outputs": [],
   "source": [
    "class Rectangle: Shape {\n",
    "    var width: Double = 5.2\n",
    "    var height: Double = 8\n",
    "    \n",
    "    init(origin: Point = Point(x: 0, y: 0), width: Double, height: Double) {\n",
    "        self.width = width\n",
    "        self.height = height\n",
    "        super.init(origin: origin)\n",
    "    }\n",
    "    override func area() throws -> Double {\n",
    "        guard (self.width > 0 && self.height > 0) else{\n",
    "            throw ShapeError.wrongDimensions\n",
    "        }\n",
    "        return self.width * self.height\n",
    "    }\n",
    "    \n",
    "}"
   ]
  },
  {
   "cell_type": "code",
   "execution_count": 124,
   "metadata": {},
   "outputs": [],
   "source": [
    "class Square: Rectangle {    \n",
    "    init(origin: Point = Point(x: 0, y: 0), side: Double = 6) {\n",
    "        super.init(origin: origin, width: side, height: side)\n",
    "    }\n",
    "    \n",
    "}"
   ]
  },
  {
   "cell_type": "code",
   "execution_count": 126,
   "metadata": {},
   "outputs": [],
   "source": [
    "class Elipse: Shape {\n",
    "    var a: Double = 6\n",
    "    var b: Double = 2\n",
    "    \n",
    "    init(origin: Point = Point(x: 0, y: 0), a: Double, b: Double) {\n",
    "        self.a = a\n",
    "        self.b = b\n",
    "        super.init(origin: origin)\n",
    "    }\n",
    "    override func area() throws -> Double {\n",
    "        guard (self.a > 0 && self.b > 0) else{\n",
    "            throw ShapeError.wrongDimensions\n",
    "        }\n",
    "        return Double.pi * self.a * self.b\n",
    "    }\n",
    "\n",
    "}"
   ]
  },
  {
   "cell_type": "code",
   "execution_count": 127,
   "metadata": {},
   "outputs": [],
   "source": [
    "class Circle: Elipse {\n",
    "    init(origin: Point = Point(x: 0, y: 0), r: Double = 5) {\n",
    "        super.init(origin: origin, a: r, b: r)\n",
    "    }\n",
    "\n",
    "}"
   ]
  },
  {
   "cell_type": "markdown",
   "metadata": {},
   "source": [
    "La siguiente celda hace algunas comprobaciones básicas para ayudarte a comprobar si lo que has hecho está bien. Si se muestra algún mensaje en pantalla, es que ha habido algún error. Asegúrate de comprobar otros casos en tu código."
   ]
  },
  {
   "cell_type": "code",
   "execution_count": 128,
   "metadata": {},
   "outputs": [],
   "source": [
    "func testArea(_ shape: Shape, expected: Double?) {\n",
    "    let actual = try? shape.area()\n",
    "    if actual != expected {\n",
    "        print(\"El área de \\(shape) debe ser \\(expected), pero en tu código sale \\(actual).\")\n",
    "    }\n",
    "}\n",
    "\n",
    "testArea(Square(origin: Point.zero, side: 4), expected: 16)\n",
    "testArea(Circle(origin: Point.zero, r: 4), expected: Double.pi * 16)\n",
    "testArea(Circle(origin: Point.zero, r: -4), expected: nil)\n",
    "testArea(Shape(origin: Point.zero), expected: nil)"
   ]
  },
  {
   "cell_type": "code",
   "execution_count": null,
   "metadata": {},
   "outputs": [],
   "source": []
  }
 ],
 "metadata": {
  "kernelspec": {
   "display_name": "Swift",
   "language": "swift",
   "name": "swift"
  },
  "language_info": {
   "file_extension": ".swift",
   "mimetype": "text/x-swift",
   "name": "swift",
   "version": ""
  }
 },
 "nbformat": 4,
 "nbformat_minor": 4
}
