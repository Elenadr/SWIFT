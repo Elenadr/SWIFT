{
 "cells": [
  {
   "cell_type": "markdown",
   "metadata": {},
   "source": [
    "# Introducción a Swift"
   ]
  },
  {
   "cell_type": "markdown",
   "metadata": {},
   "source": [
    "Swift es un lenguaje de programación moderno y eficiente que, además, incorpora una gran variedad de técnicas o _paradigmas_ de programación procedentes de ámbitos diversos: programación orientada a objetos, funcional, e incluso programación de sistemas. Iremos viendo más detalles sobre esto durante el curso. Por el momento, vamos a introducir en este _notebook_ algunos de los elementos básicos del lenguaje para que veáis qué pinta tiene.\n",
    "\n",
    "Por otro lado, seguramente habréis notado que estoy utilizando el entorno Jupyter Notebooks para mostrar fragmentos de programación en Swift. Si os fijáis en la esquina superior derecha veréis que el _kernel_ asociado a este notebook es Swift en lugar de Python, que es lo habitual. Esta no es la forma habitual de trabajar con Swift, puesto que es un lenguaje compilado; sin embargo, podemos emplear este truco para poder tener un entorno de pruebas interactivas. En ordenadores Mac existe algo similar que se llama \"Swift Playgrounds\", y es parte del compilador Xcode, de Apple. Para esta asignatura, naturalmente no se requieren ordenadores de Apple ni nada parecido: toda la programación la haremos en entorno Linux (Ubuntu 20.04, en particular)."
   ]
  },
  {
   "cell_type": "markdown",
   "metadata": {},
   "source": [
    "1. [Variables, constantes, tipos](#Variables,-constantes,-tipos)\n",
    "2. [Funciones](#Funciones)\n",
    "3. [Colecciones](#Colecciones)\n",
    "4. [`Optional`](#Optional)\n",
    "5. [Control de flujo, bucles, rangos](#Control-de-flujo,-bucles,-rangos)\n",
    "6. [Filtros y transformaciones funcionales](#Filtros-y-transformaciones-funcionales)\n",
    "7. [structs, enums](#)\n",
    "8. [Clases](#)\n",
    "[cow](#)\n",
    "9. [Excepciones](#)\n",
    "\n",
    "Otros\n",
    "\n",
    "* Protocolos\n",
    "* Extensiones\n",
    "* Genéricos\n"
   ]
  },
  {
   "cell_type": "markdown",
   "metadata": {},
   "source": [
    "## Variables, constantes, tipos"
   ]
  },
  {
   "cell_type": "markdown",
   "metadata": {},
   "source": [
    "Como sabréis de otros lenguajes, una **variable** es una \"caja\" que contiene un valor. En Swift las hay de dos _tipos_: `var`, cuyo valor puede cambiar; o `let`, que son inmutables."
   ]
  },
  {
   "cell_type": "code",
   "execution_count": 2,
   "metadata": {},
   "outputs": [],
   "source": [
    "let a = 42\n",
    "var b = 5.5\n",
    "var s = \"Hello, world!\"\n"
   ]
  },
  {
   "cell_type": "code",
   "execution_count": 3,
   "metadata": {},
   "outputs": [
    {
     "name": "stdout",
     "output_type": "stream",
     "text": [
      "Hello, world!\r\n"
     ]
    }
   ],
   "source": [
    "print(s)"
   ]
  },
  {
   "cell_type": "code",
   "execution_count": 6,
   "metadata": {},
   "outputs": [
    {
     "name": "stdout",
     "output_type": "stream",
     "text": [
      "7.0\r\n"
     ]
    }
   ],
   "source": [
    "b = 7\n",
    "print(b)"
   ]
  },
  {
   "cell_type": "code",
   "execution_count": 7,
   "metadata": {},
   "outputs": [
    {
     "ename": "",
     "evalue": "",
     "output_type": "error",
     "traceback": [
      "error: <Cell 7>:1:1: error: cannot assign to value: 'a' is a 'let' constant\na = 44\n^\n\n"
     ]
    }
   ],
   "source": [
    "a = 44"
   ]
  },
  {
   "cell_type": "markdown",
   "metadata": {},
   "source": [
    "La celda anterior da un error de compilación, porque `a` se ha declarado con `let` y por tanto es inmutable."
   ]
  },
  {
   "cell_type": "markdown",
   "metadata": {},
   "source": [
    "Swift es un lenguaje _tipado_; es decir, utiliza diferentes tipos para representar distintos valores. Todas las variables están necesariamente asociadas a un tipo concreto, que nunca puede cambiar una vez se ha declarado la variable.\n",
    "\n",
    "Sin embargo, en las expresiones que hemos utilizado antes no hemos indicado el tipo de las variables. Esto es así porque Swift tiene un excelente mecanismo de **inferencia automática de tipos**. Si hay información suficiente en el contexto para saber qué tipo necesitamos, Swift es capaz de asignarlo automáticamente.\n",
    "\n",
    "Veamos de nuevo el contenido de la primera celda:"
   ]
  },
  {
   "cell_type": "code",
   "execution_count": 8,
   "metadata": {},
   "outputs": [],
   "source": [
    "let a = 42                    // `a` es de tipo Int (entero)\n",
    "var b = 5.5                   // `b` es de tipo Double (coma flotante de doble precisión)\n",
    "var s = \"Hello, world!\"       // `s` es un String."
   ]
  },
  {
   "cell_type": "code",
   "execution_count": 9,
   "metadata": {},
   "outputs": [
    {
     "name": "stdout",
     "output_type": "stream",
     "text": [
      "Double\r\n"
     ]
    }
   ],
   "source": [
    "print(type(of: b))"
   ]
  },
  {
   "cell_type": "code",
   "execution_count": 10,
   "metadata": {},
   "outputs": [
    {
     "name": "stdout",
     "output_type": "stream",
     "text": [
      "String\r\n"
     ]
    }
   ],
   "source": [
    "print(type(of: s))"
   ]
  },
  {
   "cell_type": "markdown",
   "metadata": {},
   "source": [
    "Si queremos especificar el tipo de forma concreta, podemos hacerlo. Esto es necesario y/o recomendable en muchas situaciones:"
   ]
  },
  {
   "cell_type": "markdown",
   "metadata": {},
   "source": [
    "1. **Cuando el compilador no tenga información suficiente para inferir el tipo**. Por ejemplo, si declaramos una variable sin asignarle valor, es necesario indicar su tipo."
   ]
  },
  {
   "cell_type": "code",
   "execution_count": 11,
   "metadata": {},
   "outputs": [
    {
     "ename": "",
     "evalue": "",
     "output_type": "error",
     "traceback": [
      "error: <Cell 11>:1:5: error: type annotation missing in pattern\nvar x\n    ^\n\n"
     ]
    }
   ],
   "source": [
    "var x"
   ]
  },
  {
   "cell_type": "code",
   "execution_count": 12,
   "metadata": {},
   "outputs": [],
   "source": [
    "var x: Int"
   ]
  },
  {
   "cell_type": "markdown",
   "metadata": {},
   "source": [
    "En la celda anterior hemos declarado `x` de tipo `Int`, pero no le hemos asignado ningún valor."
   ]
  },
  {
   "cell_type": "markdown",
   "metadata": {},
   "source": [
    "2. **Cuando deseemos cambiar el tipo adivinado por el compilador**.\n"
   ]
  },
  {
   "cell_type": "markdown",
   "metadata": {},
   "source": [
    "En el ejemplo anterior, `a` era un `Int` y `b` un `Double`. Esto es porque en el valor que asignamos a `b` aparece un punto decimal, y por tanto el compilador intuye que queremos almacenar un número real.\n",
    "\n",
    "Si quisiéramos que `a` hubiera sido `Double`, podríamos haberlo hecho de dos maneras:"
   ]
  },
  {
   "cell_type": "code",
   "execution_count": 13,
   "metadata": {},
   "outputs": [
    {
     "name": "stdout",
     "output_type": "stream",
     "text": [
      "Double\r\n"
     ]
    }
   ],
   "source": [
    "var a = 42.0\n",
    "print(type(of: a))"
   ]
  },
  {
   "cell_type": "code",
   "execution_count": 14,
   "metadata": {},
   "outputs": [
    {
     "name": "stdout",
     "output_type": "stream",
     "text": [
      "Double\r\n"
     ]
    }
   ],
   "source": [
    "var a: Double = 42\n",
    "print(type(of: a))"
   ]
  },
  {
   "cell_type": "markdown",
   "metadata": {},
   "source": [
    "3. **Por claridad**, si queremos que la información del tipo sea evidente para cualquiera que vaya a leer nuestro código en el futuro."
   ]
  },
  {
   "cell_type": "code",
   "execution_count": 15,
   "metadata": {},
   "outputs": [],
   "source": [
    "var a: Int = 42"
   ]
  },
  {
   "cell_type": "markdown",
   "metadata": {},
   "source": [
    "Respecto a los tipos de punto flotante, en Swift existen `Float` y `Double`. `Double` tiene mayor precisión pero ocupa el doble de memoria. En general, siempre usaremos `Double`."
   ]
  },
  {
   "cell_type": "markdown",
   "metadata": {},
   "source": [
    "----"
   ]
  },
  {
   "cell_type": "markdown",
   "metadata": {},
   "source": [
    "Algunos lenguajes hacen conversión automática de tipos cuando hacemos una operación en la que se mezclan variables de tipos diferentes. En Swift nunca se produce conversión implícita de tipos."
   ]
  },
  {
   "cell_type": "code",
   "execution_count": 16,
   "metadata": {},
   "outputs": [],
   "source": [
    "var x = 7    // Int\n",
    "var y = 5.0  // Double"
   ]
  },
  {
   "cell_type": "code",
   "execution_count": 17,
   "metadata": {
    "scrolled": true
   },
   "outputs": [
    {
     "ename": "",
     "evalue": "",
     "output_type": "error",
     "traceback": [
      "error: <Cell 17>:1:11: error: binary operator '+' cannot be applied to operands of type 'Int' and 'Double'\nvar z = x + y    // Error\n        ~ ^ ~\n\n<Cell 17>:1:11: note: overloads for '+' exist with these partially matching parameter lists: (Double, Double), (Int, Int)\nvar z = x + y    // Error\n          ^\n\n"
     ]
    }
   ],
   "source": [
    "var z = x + y    // Error"
   ]
  },
  {
   "cell_type": "markdown",
   "metadata": {},
   "source": [
    "La conversión tiene que ser explícita."
   ]
  },
  {
   "cell_type": "code",
   "execution_count": 18,
   "metadata": {},
   "outputs": [
    {
     "name": "stdout",
     "output_type": "stream",
     "text": [
      "12.0\r\n"
     ]
    }
   ],
   "source": [
    "var z = Double(x) + y\n",
    "print(z)"
   ]
  },
  {
   "cell_type": "markdown",
   "metadata": {},
   "source": [
    "Al hacer la conversión, se crea una _copia_ de la variable. La variable original (`x`, en este caso), sigue teniendo el mismo valor y el mismo tipo."
   ]
  },
  {
   "cell_type": "code",
   "execution_count": 26,
   "metadata": {},
   "outputs": [],
   "source": [
    "x = 7"
   ]
  },
  {
   "cell_type": "code",
   "execution_count": 28,
   "metadata": {},
   "outputs": [],
   "source": [
    "var dx1 = Double(x)"
   ]
  },
  {
   "cell_type": "code",
   "execution_count": 29,
   "metadata": {},
   "outputs": [
    {
     "data": {
      "text/plain": [
       "7.0\n"
      ]
     },
     "execution_count": 29,
     "metadata": {},
     "output_type": "execute_result"
    }
   ],
   "source": [
    "dx1"
   ]
  },
  {
   "cell_type": "code",
   "execution_count": 30,
   "metadata": {},
   "outputs": [],
   "source": [
    "x = 8"
   ]
  },
  {
   "cell_type": "code",
   "execution_count": 31,
   "metadata": {},
   "outputs": [
    {
     "data": {
      "text/plain": [
       "7.0\n"
      ]
     },
     "execution_count": 31,
     "metadata": {},
     "output_type": "execute_result"
    }
   ],
   "source": [
    "dx1"
   ]
  },
  {
   "cell_type": "code",
   "execution_count": 32,
   "metadata": {},
   "outputs": [
    {
     "data": {
      "text/plain": [
       "8.0\n"
      ]
     },
     "execution_count": 32,
     "metadata": {},
     "output_type": "execute_result"
    }
   ],
   "source": [
    "var dx2 = Double(x)\n",
    "dx2"
   ]
  },
  {
   "cell_type": "code",
   "execution_count": 19,
   "metadata": {},
   "outputs": [
    {
     "name": "stdout",
     "output_type": "stream",
     "text": [
      "Double\r\n"
     ]
    }
   ],
   "source": [
    "print(type(of: z))"
   ]
  },
  {
   "cell_type": "markdown",
   "metadata": {},
   "source": [
    "Notad, sin embargo, que en el caso de utilizar _literales_, Swift es capaz de inferir el tipo correctamente:"
   ]
  },
  {
   "cell_type": "code",
   "execution_count": 20,
   "metadata": {
    "scrolled": true
   },
   "outputs": [
    {
     "name": "stdout",
     "output_type": "stream",
     "text": [
      "7.1\r\n"
     ]
    }
   ],
   "source": [
    "var z = 4.1 + 3\n",
    "print(z)"
   ]
  },
  {
   "cell_type": "markdown",
   "metadata": {},
   "source": [
    "En este caso, el número `3` se interpreta como un `Double` porque ya aparecía otro `Double` en la expresión."
   ]
  },
  {
   "cell_type": "markdown",
   "metadata": {},
   "source": [
    "El operador `+` suele servir para _concatenar_ o _añadir_ elementos a un conjunto, como veremos después. En el caso de cadenas de texto también funciona, pero tenemos que convertir todo a cadenas, como siempre:"
   ]
  },
  {
   "cell_type": "code",
   "execution_count": 21,
   "metadata": {},
   "outputs": [
    {
     "name": "stdout",
     "output_type": "stream",
     "text": [
      "El total es: 7.1\r\n"
     ]
    }
   ],
   "source": [
    "var s = \"El total es: \"\n",
    "s = s + String(z)\n",
    "print(s)"
   ]
  },
  {
   "cell_type": "markdown",
   "metadata": {},
   "source": [
    "Como esta es una operación muy frecuente, existe un _atajo_ especial que se utiliza mucho:"
   ]
  },
  {
   "cell_type": "code",
   "execution_count": 22,
   "metadata": {},
   "outputs": [
    {
     "name": "stdout",
     "output_type": "stream",
     "text": [
      "Total: 7.1\r\n"
     ]
    }
   ],
   "source": [
    "print(\"Total: \\(z)\")"
   ]
  },
  {
   "cell_type": "markdown",
   "metadata": {},
   "source": [
    "Dentro del paréntesis de `\\()` puede ir cualquier expresión escrita en Swift."
   ]
  },
  {
   "cell_type": "code",
   "execution_count": 24,
   "metadata": {},
   "outputs": [
    {
     "name": "stdout",
     "output_type": "stream",
     "text": [
      "cos(π/4): 0.7071067811865476\r\n"
     ]
    }
   ],
   "source": [
    "import Foundation                        // Módulo estándar con multitud de funcionalidad\n",
    "\n",
    "print(\"cos(π/4): \\(cos(Double.pi/4))\")"
   ]
  },
  {
   "cell_type": "code",
   "execution_count": 23,
   "metadata": {},
   "outputs": [
    {
     "data": {
      "text/plain": [
       "3.141592653589793\n"
      ]
     },
     "execution_count": 23,
     "metadata": {},
     "output_type": "execute_result"
    }
   ],
   "source": [
    "Double.pi"
   ]
  },
  {
   "cell_type": "markdown",
   "metadata": {},
   "source": [
    "## Funciones"
   ]
  },
  {
   "cell_type": "markdown",
   "metadata": {},
   "source": [
    "En el ejemplo anterior, `cos` es una función estándar que calcula el coseno del número que se le indica como parámetro. `print`, que también hemos visto, es otra función que muestra en la salida estándar el string que se le suministra.\n",
    "\n",
    "Algunos ejemplos básicos de funciones en Swift:"
   ]
  },
  {
   "cell_type": "code",
   "execution_count": 33,
   "metadata": {},
   "outputs": [
    {
     "name": "stdout",
     "output_type": "stream",
     "text": [
      "Hello!\r\n"
     ]
    }
   ],
   "source": [
    "// Función sin parámetros de entrada ni resultado\n",
    "func greet() {\n",
    "    print(\"Hello!\")\n",
    "}\n",
    "\n",
    "// Invocación\n",
    "greet()"
   ]
  },
  {
   "cell_type": "code",
   "execution_count": 34,
   "metadata": {},
   "outputs": [],
   "source": [
    "// Función con un parámetro de entrada que es un String\n",
    "func greet1(name: String) {\n",
    "    print(\"Hello, \\(name)!\")\n",
    "}"
   ]
  },
  {
   "cell_type": "markdown",
   "metadata": {},
   "source": [
    "**¿Cómo invoco la función `greet1`?**"
   ]
  },
  {
   "cell_type": "markdown",
   "metadata": {},
   "source": [
    "En otros lenguajes:"
   ]
  },
  {
   "cell_type": "code",
   "execution_count": 35,
   "metadata": {},
   "outputs": [
    {
     "ename": "",
     "evalue": "",
     "output_type": "error",
     "traceback": [
      "error: <Cell 35>:1:8: error: missing argument label 'name:' in call\ngreet1(\"Andrés\")\n\n"
     ]
    }
   ],
   "source": [
    "greet1(\"Andrés\")"
   ]
  },
  {
   "cell_type": "code",
   "execution_count": 36,
   "metadata": {},
   "outputs": [
    {
     "name": "stdout",
     "output_type": "stream",
     "text": [
      "Hello, Pedro!\r\n"
     ]
    }
   ],
   "source": [
    "greet1(name: \"Pedro\")"
   ]
  },
  {
   "cell_type": "markdown",
   "metadata": {},
   "source": [
    "Obsérvese cómo, a diferencia de muchos lenguajes, en la invocación a una función debe incluirse el nombre de los parámetros de entrada. Esta es una idea que procede de Objective-C y cuyo propósito es eliminar por completo la ambigüedad en la invocación.\n",
    "\n",
    "En algunas ocasiones, como en las funciones matemáticas en las que sabemos que sólo se suministra un parámetro, podemos hacer que la invocación sea anónima. Es el caso de la función `cos` que hemos visto antes. Si quisiéramos hacer lo mismo en nuestra función `greet`, la definición sería:"
   ]
  },
  {
   "cell_type": "code",
   "execution_count": 37,
   "metadata": {},
   "outputs": [
    {
     "name": "stdout",
     "output_type": "stream",
     "text": [
      "Hello, Jose!\r\n"
     ]
    }
   ],
   "source": [
    "func greet2(_ name: String) {\n",
    "    print(\"Hello, \\(name)!\")\n",
    "}\n",
    "\n",
    "greet2(\"Jose\")"
   ]
  },
  {
   "cell_type": "markdown",
   "metadata": {},
   "source": [
    "Dentro de la función seguimos necesitando un nombre de variable para poder referirnos al dato que nos han suministrado. Si ponemos el carácter `_` antes de ese nombre, indicamos que la invocación será anónima.\n",
    "\n",
    "`_` se emplea también en otras situaciones, como veremos, para indicar valores que se omiten."
   ]
  },
  {
   "cell_type": "markdown",
   "metadata": {},
   "source": [
    "A decir verdad, los parámetros de las funciones pueden recibir **dos** nombres: el que se utiliza dentro de la función y el que se utiliza para invocarla. A veces es más descriptivo utilizar dos nombres, aunque abusar de esta característica puede hacer el código innecesariamente prolijo."
   ]
  },
  {
   "cell_type": "code",
   "execution_count": 38,
   "metadata": {},
   "outputs": [
    {
     "name": "stdout",
     "output_type": "stream",
     "text": [
      "Hello, Jose! Today is Wednesday.\r\n"
     ]
    }
   ],
   "source": [
    "func greet3(_ name: String, on day: String) {\n",
    "    print(\"Hello, \\(name)! Today is \\(day).\")\n",
    "}\n",
    "\n",
    "greet3(\"Jose\", on: \"Wednesday\")"
   ]
  },
  {
   "cell_type": "markdown",
   "metadata": {},
   "source": [
    "Se pueden indicar valores por defecto para los parámetros:"
   ]
  },
  {
   "cell_type": "code",
   "execution_count": 39,
   "metadata": {},
   "outputs": [
    {
     "name": "stdout",
     "output_type": "stream",
     "text": [
      "Hello, Jose! Today is Wednesday.\r\n",
      "Hello, Pedro! Today is Monday.\r\n"
     ]
    }
   ],
   "source": [
    "func greet4(_ name: String, on day: String = \"Monday\") {\n",
    "    print(\"Hello, \\(name)! Today is \\(day).\")\n",
    "}\n",
    "\n",
    "greet4(\"Jose\", on: \"Wednesday\")\n",
    "greet4(\"Pedro\")"
   ]
  },
  {
   "cell_type": "markdown",
   "metadata": {},
   "source": [
    "Es muy habitual que las funciones devuelvan valores. Esto se expresa con la \"flecha\" `->`. A continuación vamos a hacer una nueva versión de la función de saludo que devuelva el `String` en lugar de imprimirlo:"
   ]
  },
  {
   "cell_type": "code",
   "execution_count": 40,
   "metadata": {},
   "outputs": [
    {
     "name": "stdout",
     "output_type": "stream",
     "text": [
      "Hello, Pedro! Today is Monday.\r\n"
     ]
    }
   ],
   "source": [
    "func greeting(_ name: String, on day: String = \"Monday\") -> String {\n",
    "    return \"Hello, \\(name)! Today is \\(day).\"\n",
    "}\n",
    "\n",
    "print(greeting(\"Pedro\"))"
   ]
  },
  {
   "cell_type": "code",
   "execution_count": 42,
   "metadata": {},
   "outputs": [],
   "source": [
    "var theGreeting = greeting(\"Pedro\")"
   ]
  },
  {
   "cell_type": "code",
   "execution_count": 43,
   "metadata": {},
   "outputs": [
    {
     "data": {
      "text/plain": [
       "\"Hello, Pedro! Today is Monday.\"\n"
      ]
     },
     "execution_count": 43,
     "metadata": {},
     "output_type": "execute_result"
    }
   ],
   "source": [
    "theGreeting"
   ]
  },
  {
   "cell_type": "code",
   "execution_count": 44,
   "metadata": {},
   "outputs": [
    {
     "data": {
      "text/plain": [
       "\"Hello, Pedro! Today is Monday.\"\n"
      ]
     },
     "execution_count": 44,
     "metadata": {},
     "output_type": "execute_result"
    }
   ],
   "source": [
    "greeting(\"Pedro\")"
   ]
  },
  {
   "cell_type": "markdown",
   "metadata": {},
   "source": [
    "Las funciones, técnicamente, sólo pueden devolver un único valor. Sin embargo, en Swift existe el tipo \"tupla\" que representa una secuencia de valores. Es válido que una función devuelva una tupla, que no es más que una lista de tipos entre paréntesis:"
   ]
  },
  {
   "cell_type": "code",
   "execution_count": 46,
   "metadata": {},
   "outputs": [
    {
     "data": {
      "text/plain": [
       "▿ 2 elements\n",
       "  - .0 : 20\n",
       "  - .1 : \"Javier\"\n"
      ]
     },
     "execution_count": 46,
     "metadata": {},
     "output_type": "execute_result"
    }
   ],
   "source": [
    "// Función que devuelve una tupla con dos valores\n",
    "func readPersonFromDatabase() -> (Int, String) {\n",
    "    return (20, \"Javier\")   // Siempre hay que poner las tuplas en paréntesis\n",
    "}\n",
    "\n",
    "let person = readPersonFromDatabase()\n",
    "person"
   ]
  },
  {
   "cell_type": "code",
   "execution_count": 48,
   "metadata": {},
   "outputs": [
    {
     "name": "stdout",
     "output_type": "stream",
     "text": [
      "20\r\n"
     ]
    }
   ],
   "source": [
    "print(person.0)"
   ]
  },
  {
   "cell_type": "code",
   "execution_count": 49,
   "metadata": {},
   "outputs": [
    {
     "name": "stdout",
     "output_type": "stream",
     "text": [
      "Javier\r\n"
     ]
    }
   ],
   "source": [
    "print(person.1)"
   ]
  },
  {
   "cell_type": "code",
   "execution_count": 47,
   "metadata": {},
   "outputs": [
    {
     "name": "stdout",
     "output_type": "stream",
     "text": [
      "(20, \"Javier\")\r\n"
     ]
    }
   ],
   "source": [
    "print(person)"
   ]
  },
  {
   "cell_type": "markdown",
   "metadata": {},
   "source": [
    "¿Cómo accedemos al contenido de la tupla? Como puede verse en la descripción que muestra la ejecución de la celda anterior, esta tupla consta de dos elementos. Una forma es referirnos a los elementos por su posición, comenzando en el 0:"
   ]
  },
  {
   "cell_type": "code",
   "execution_count": 50,
   "metadata": {},
   "outputs": [
    {
     "name": "stdout",
     "output_type": "stream",
     "text": [
      "Age: 20, Name: Javier\r\n"
     ]
    }
   ],
   "source": [
    "print(\"Age: \\(person.0), Name: \\(person.1)\")"
   ]
  },
  {
   "cell_type": "markdown",
   "metadata": {},
   "source": [
    "Sin embargo, esto es poco descriptivo. Afortunadamente, se pueden dar nombres a los elementos de los que consta la tupla. Esto podría haberse hecho declarando la función así:"
   ]
  },
  {
   "cell_type": "code",
   "execution_count": 51,
   "metadata": {},
   "outputs": [
    {
     "name": "stdout",
     "output_type": "stream",
     "text": [
      "Age: 20, Name: Javier\r\n"
     ]
    }
   ],
   "source": [
    "func readPersonFromDatabase2() -> (age: Int, name: String) {\n",
    "    return (20, \"Javier\")   // Siempre hay que poner las tuplas en paréntesis\n",
    "}\n",
    "\n",
    "let person = readPersonFromDatabase2()\n",
    "print(\"Age: \\(person.age), Name: \\(person.name)\")"
   ]
  },
  {
   "cell_type": "code",
   "execution_count": 52,
   "metadata": {},
   "outputs": [
    {
     "data": {
      "text/plain": [
       "20\n"
      ]
     },
     "execution_count": 52,
     "metadata": {},
     "output_type": "execute_result"
    }
   ],
   "source": [
    "person.0"
   ]
  },
  {
   "cell_type": "code",
   "execution_count": 53,
   "metadata": {},
   "outputs": [
    {
     "data": {
      "text/plain": [
       "▿ 2 elements\n",
       "  - age : 20\n",
       "  - name : \"Javier\"\n"
      ]
     },
     "execution_count": 53,
     "metadata": {},
     "output_type": "execute_result"
    }
   ],
   "source": [
    "person"
   ]
  },
  {
   "cell_type": "code",
   "execution_count": 55,
   "metadata": {},
   "outputs": [
    {
     "name": "stdout",
     "output_type": "stream",
     "text": [
      "(age: Int, name: String)\r\n"
     ]
    }
   ],
   "source": [
    "print(type(of: person))"
   ]
  },
  {
   "cell_type": "markdown",
   "metadata": {},
   "source": [
    "Sea como fuere, siempre podemos extraer los valores de la tupla a variables individuales:"
   ]
  },
  {
   "cell_type": "code",
   "execution_count": 56,
   "metadata": {},
   "outputs": [
    {
     "name": "stdout",
     "output_type": "stream",
     "text": [
      "Age: 20, Name: Javier\r\n"
     ]
    }
   ],
   "source": [
    "let (age, name) = readPersonFromDatabase2()\n",
    "print(\"Age: \\(age), Name: \\(name)\")"
   ]
  },
  {
   "cell_type": "code",
   "execution_count": 57,
   "metadata": {},
   "outputs": [],
   "source": [
    "let (edadJavier, nombreJavier) = readPersonFromDatabase2()"
   ]
  },
  {
   "cell_type": "code",
   "execution_count": 58,
   "metadata": {},
   "outputs": [
    {
     "name": "stdout",
     "output_type": "stream",
     "text": [
      "Int\r\n",
      "String\r\n"
     ]
    }
   ],
   "source": [
    "print(type(of: edadJavier))\n",
    "print(type(of: nombreJavier))"
   ]
  },
  {
   "cell_type": "markdown",
   "metadata": {},
   "source": [
    "----"
   ]
  },
  {
   "cell_type": "markdown",
   "metadata": {},
   "source": [
    "Las funciones pueden **anidarse** dentro de otras funciones. Una función anidada sólo es visible desde dentro de la función donde se encuentra. Esta es una forma retorcida de calcular el siguiente valor de un número entero:"
   ]
  },
  {
   "cell_type": "code",
   "execution_count": 59,
   "metadata": {},
   "outputs": [
    {
     "name": "stdout",
     "output_type": "stream",
     "text": [
      "5\r\n"
     ]
    }
   ],
   "source": [
    "func printIncrement(_ n: Int) {\n",
    "    func addOne(_ n: Int) -> Int {\n",
    "        return n + 1\n",
    "    }\n",
    "    print(addOne(n))\n",
    "}\n",
    "\n",
    "printIncrement(4)"
   ]
  },
  {
   "cell_type": "markdown",
   "metadata": {},
   "source": [
    "Las funciones también son **tipos de primer orden** (es decir, tipos como cualquier otro). Esto significa que una función puede aceptar como argumento o devolver otra función:"
   ]
  },
  {
   "cell_type": "code",
   "execution_count": 60,
   "metadata": {},
   "outputs": [
    {
     "name": "stdout",
     "output_type": "stream",
     "text": [
      "42\r\n"
     ]
    }
   ],
   "source": [
    "func makeIncrementer() -> ((Int) -> (Int)) {\n",
    "    func addOne(n: Int) -> Int {\n",
    "        return n + 1\n",
    "    }\n",
    "    return addOne\n",
    "}\n",
    "\n",
    "let incrementer = makeIncrementer()\n",
    "print(incrementer(41))"
   ]
  },
  {
   "cell_type": "code",
   "execution_count": 61,
   "metadata": {},
   "outputs": [
    {
     "data": {
      "text/plain": [
       "1\n"
      ]
     },
     "execution_count": 61,
     "metadata": {},
     "output_type": "execute_result"
    }
   ],
   "source": [
    "incrementer(0)"
   ]
  },
  {
   "cell_type": "code",
   "execution_count": 63,
   "metadata": {},
   "outputs": [
    {
     "name": "stdout",
     "output_type": "stream",
     "text": [
      "(Int) -> Int\r\n"
     ]
    }
   ],
   "source": [
    "print(type(of: incrementer))"
   ]
  },
  {
   "cell_type": "markdown",
   "metadata": {},
   "source": [
    "`makeIncrementer()` devuelve **una función** (lo que se indica con los paréntesis en el resultado). Dicha función acepta como argumento un `Int`, y devuelve (`->`) otro `Int`."
   ]
  },
  {
   "cell_type": "markdown",
   "metadata": {},
   "source": [
    "Las funciones anidadas \"ven\" el contexto de la función donde fueron declaradas. Este contexto se \"arrastra\" con la función cuando ésta se devuelve. Observa cómo la función anidada `add` del siguiente ejemplo es capaz de hacer referencia al argumento `base` de la función `makeAdder`. Si llamamos a `makeAdder` con diferentes valores, obtendremos funciones que aplican la suma a esos números:"
   ]
  },
  {
   "cell_type": "code",
   "execution_count": 65,
   "metadata": {},
   "outputs": [
    {
     "name": "stdout",
     "output_type": "stream",
     "text": [
      "7\r\n",
      "10\r\n"
     ]
    }
   ],
   "source": [
    "func makeAdder(_ base: Int) -> ((Int) -> (Int)) {\n",
    "    var x = 7\n",
    "    func add(n: Int) -> Int {\n",
    "        return base + n\n",
    "    }\n",
    "    return add\n",
    "}\n",
    "\n",
    "let adder = makeAdder(5)\n",
    "print(adder(2))\n",
    "print(adder(5))"
   ]
  },
  {
   "cell_type": "code",
   "execution_count": 66,
   "metadata": {},
   "outputs": [
    {
     "name": "stdout",
     "output_type": "stream",
     "text": [
      "1\r\n",
      "4\r\n"
     ]
    }
   ],
   "source": [
    "let decrementer = makeAdder(-1)\n",
    "print(decrementer(2))\n",
    "print(decrementer(5))"
   ]
  },
  {
   "cell_type": "code",
   "execution_count": null,
   "metadata": {},
   "outputs": [],
   "source": [
    "print(type(of: decrementer))"
   ]
  },
  {
   "cell_type": "markdown",
   "metadata": {},
   "source": [
    "Este tipo de funciones también se denominan _**closures**_, puesto que \"envuelven\" o capturan las variables del contexto donde se definen. Su utilización es muy importante en Swift, en futuras secciones iremos viendo más cosas sobre los closures."
   ]
  },
  {
   "cell_type": "markdown",
   "metadata": {},
   "source": [
    "## Colecciones"
   ]
  },
  {
   "cell_type": "markdown",
   "metadata": {},
   "source": [
    "Además de las _tuplas_ que ya hemos visto, en Swift hay tres tipos agregados incorporados en la biblioteca estándar del lenguaje:\n",
    "* Arrays\n",
    "* Sets\n",
    "* Diccionarios\n",
    "\n",
    "Estos tipos se conocen con el nombre genérico de _colecciones_, y su propósito es almacenar conjuntos de elementos."
   ]
  },
  {
   "cell_type": "markdown",
   "metadata": {},
   "source": [
    "### Arrays"
   ]
  },
  {
   "cell_type": "markdown",
   "metadata": {},
   "source": [
    "Los arrays son secuencias de tipos homogéneos; es decir, los elementos que contienen son del mismo tipo. Su característica principal es la _indexación_: cada elemento tiene asociado un índice de _acceso directo_ mediante el que se puede acceder a su valor."
   ]
  },
  {
   "cell_type": "code",
   "execution_count": 1,
   "metadata": {},
   "outputs": [],
   "source": [
    "var someOddNumbers = [7, 5, 3, 1]   // Array of Int, initialized with some values.\n",
    "var aFewStrings: Array<String>      // Array of String (uninitialized!).\n",
    "var floats: [Double]                // Array of Double (uninitialized!).\n",
    "var andMore = Array<Double>()       // Array of Double (empty)\n",
    "var moreFloats = [Double]()         // Array of Double (empty)"
   ]
  },
  {
   "cell_type": "code",
   "execution_count": 2,
   "metadata": {},
   "outputs": [
    {
     "name": "stdout",
     "output_type": "stream",
     "text": [
      "Array<String>\r\n"
     ]
    }
   ],
   "source": [
    "print(type(of: aFewStrings))"
   ]
  },
  {
   "cell_type": "code",
   "execution_count": 3,
   "metadata": {},
   "outputs": [
    {
     "name": "stdout",
     "output_type": "stream",
     "text": [
      "Array<Int>\r\n"
     ]
    }
   ],
   "source": [
    "print(type(of: someOddNumbers))"
   ]
  },
  {
   "cell_type": "code",
   "execution_count": 4,
   "metadata": {},
   "outputs": [
    {
     "name": "stdout",
     "output_type": "stream",
     "text": [
      "Array<Double>\r\n"
     ]
    }
   ],
   "source": [
    "print(type(of: floats))"
   ]
  },
  {
   "cell_type": "markdown",
   "metadata": {},
   "source": [
    "La forma canónica de expresar el tipo de un array es `Array<TipoElemento>`, donde `TipoElemento` es el tipo de cada uno de los elementos que contiene el array. La notación `[TipoElemento]`, sin embargo, es muy común por su sencillez. Si deseamos introducir elementos en el array al mismo tiempo que lo declaramos, podemos hacerlo por enumeración como en el primer ejemplo de la celda anterior."
   ]
  },
  {
   "cell_type": "markdown",
   "metadata": {},
   "source": [
    "Algunas operaciones con arrays."
   ]
  },
  {
   "cell_type": "code",
   "execution_count": 5,
   "metadata": {},
   "outputs": [
    {
     "name": "stdout",
     "output_type": "stream",
     "text": [
      "7\r\n"
     ]
    }
   ],
   "source": [
    "print(someOddNumbers[0])           // Indexación"
   ]
  },
  {
   "cell_type": "code",
   "execution_count": 6,
   "metadata": {},
   "outputs": [
    {
     "name": "stdout",
     "output_type": "stream",
     "text": [
      "3\r\n"
     ]
    }
   ],
   "source": [
    "print(someOddNumbers[2])"
   ]
  },
  {
   "cell_type": "code",
   "execution_count": 7,
   "metadata": {},
   "outputs": [
    {
     "name": "stdout",
     "output_type": "stream",
     "text": [
      "4\r\n"
     ]
    }
   ],
   "source": [
    "print(someOddNumbers.count)"
   ]
  },
  {
   "cell_type": "code",
   "execution_count": 8,
   "metadata": {},
   "outputs": [
    {
     "name": "stdout",
     "output_type": "stream",
     "text": [
      "1\r\n"
     ]
    }
   ],
   "source": [
    "print(someOddNumbers[someOddNumbers.count-1])"
   ]
  },
  {
   "cell_type": "code",
   "execution_count": 9,
   "metadata": {},
   "outputs": [
    {
     "name": "stdout",
     "output_type": "stream",
     "text": [
      "[7, 5, 3, 1, 9]\r\n"
     ]
    }
   ],
   "source": [
    "someOddNumbers = someOddNumbers + [9]           // Append another array\n",
    "print(someOddNumbers)"
   ]
  },
  {
   "cell_type": "code",
   "execution_count": 10,
   "metadata": {},
   "outputs": [
    {
     "name": "stdout",
     "output_type": "stream",
     "text": [
      "[7, 5, 3, 1, 9, 11]\r\n"
     ]
    }
   ],
   "source": [
    "someOddNumbers.append(11)     // Append a single element. The array is mutated.\n",
    "print(someOddNumbers)"
   ]
  },
  {
   "cell_type": "code",
   "execution_count": 12,
   "metadata": {},
   "outputs": [
    {
     "name": "stdout",
     "output_type": "stream",
     "text": [
      "true\r\n"
     ]
    }
   ],
   "source": [
    "print(someOddNumbers.contains(3))"
   ]
  },
  {
   "cell_type": "code",
   "execution_count": 13,
   "metadata": {},
   "outputs": [
    {
     "name": "stdout",
     "output_type": "stream",
     "text": [
      "false\r\n"
     ]
    }
   ],
   "source": [
    "print(someOddNumbers.contains(2))"
   ]
  },
  {
   "cell_type": "code",
   "execution_count": 14,
   "metadata": {},
   "outputs": [
    {
     "name": "stdout",
     "output_type": "stream",
     "text": [
      "Bool\r\n"
     ]
    }
   ],
   "source": [
    "print(type(of: true))"
   ]
  },
  {
   "cell_type": "code",
   "execution_count": 15,
   "metadata": {},
   "outputs": [
    {
     "name": "stdout",
     "output_type": "stream",
     "text": [
      "Optional(2)\r\n"
     ]
    }
   ],
   "source": [
    "print(someOddNumbers.index(of: 3))"
   ]
  },
  {
   "cell_type": "code",
   "execution_count": 16,
   "metadata": {},
   "outputs": [
    {
     "name": "stdout",
     "output_type": "stream",
     "text": [
      "nil\r\n"
     ]
    }
   ],
   "source": [
    "print(someOddNumbers.index(of: 2))"
   ]
  },
  {
   "cell_type": "markdown",
   "metadata": {},
   "source": [
    "`nil` es un valor especial. En este caso significa que no hay ningún elemento con el valor que estamos buscando, por lo que el índice es \"nulo\". Próximamente veremos más sobre `nil` y su relación con `Optional`, que aparece en la celda anterior."
   ]
  },
  {
   "cell_type": "code",
   "execution_count": 17,
   "metadata": {},
   "outputs": [
    {
     "name": "stdout",
     "output_type": "stream",
     "text": [
      "[7, 5, 3, 1, 9, 11, 7, 5, 3, 1, 9, 11]\r\n"
     ]
    }
   ],
   "source": [
    "print(someOddNumbers + someOddNumbers)"
   ]
  },
  {
   "cell_type": "markdown",
   "metadata": {},
   "source": [
    "Los elementos pueden estar repetidos."
   ]
  },
  {
   "cell_type": "markdown",
   "metadata": {},
   "source": [
    "Generalmente se dice que el array es una estructura de datos _ordenada_. Esta ordenación **no** se refiere a los elementos que contiene, sino a que cada uno va detrás del otro de manera determinística, según el orden en que los hemos ido colocando al rellenar el array."
   ]
  },
  {
   "cell_type": "markdown",
   "metadata": {},
   "source": [
    "`var` y `let` son muy relevantes. Un array declarado con `let` es inmutable."
   ]
  },
  {
   "cell_type": "code",
   "execution_count": 18,
   "metadata": {},
   "outputs": [
    {
     "ename": "",
     "evalue": "",
     "output_type": "error",
     "traceback": [
      "error: <Cell 18>:2:3: error: cannot use mutating member on immutable value: 'x' is a 'let' constant\nx.append(3)\n~ ^\n\n<Cell 18>:1:1: note: change 'let' to 'var' to make it mutable\nlet x = [1, 2]\n^~~\nvar\n\n"
     ]
    }
   ],
   "source": [
    "let x = [1, 2]\n",
    "x.append(3)"
   ]
  },
  {
   "cell_type": "markdown",
   "metadata": {},
   "source": [
    "----"
   ]
  },
  {
   "cell_type": "markdown",
   "metadata": {},
   "source": [
    "Iteración"
   ]
  },
  {
   "cell_type": "code",
   "execution_count": 19,
   "metadata": {},
   "outputs": [
    {
     "name": "stdout",
     "output_type": "stream",
     "text": [
      "7 14\r\n",
      "5 10\r\n",
      "3 6\r\n",
      "1 2\r\n",
      "9 18\r\n",
      "11 22\r\n"
     ]
    }
   ],
   "source": [
    "for v in someOddNumbers {\n",
    "    print(v, v * 2)\n",
    "}"
   ]
  },
  {
   "cell_type": "code",
   "execution_count": 20,
   "metadata": {},
   "outputs": [
    {
     "name": "stdout",
     "output_type": "stream",
     "text": [
      "11 22\r\n",
      "9 18\r\n",
      "1 2\r\n",
      "3 6\r\n",
      "5 10\r\n",
      "7 14\r\n"
     ]
    }
   ],
   "source": [
    "for v in someOddNumbers.reversed() {\n",
    "    print(v, v * 2)\n",
    "}"
   ]
  },
  {
   "cell_type": "code",
   "execution_count": 21,
   "metadata": {},
   "outputs": [
    {
     "name": "stdout",
     "output_type": "stream",
     "text": [
      "1 2\r\n",
      "3 6\r\n",
      "5 10\r\n",
      "7 14\r\n",
      "9 18\r\n",
      "11 22\r\n"
     ]
    }
   ],
   "source": [
    "for v in someOddNumbers.sorted() {\n",
    "    print(v, v * 2)\n",
    "}"
   ]
  },
  {
   "cell_type": "code",
   "execution_count": 22,
   "metadata": {},
   "outputs": [
    {
     "name": "stdout",
     "output_type": "stream",
     "text": [
      "[1, 3, 5, 7, 9, 11]\r\n"
     ]
    }
   ],
   "source": [
    "print(someOddNumbers.sorted())"
   ]
  },
  {
   "cell_type": "markdown",
   "metadata": {},
   "source": [
    "### Diccionarios"
   ]
  },
  {
   "cell_type": "markdown",
   "metadata": {},
   "source": [
    "Los diccionarios, que en otros lenguajes pueden tener otros nombres como _mapas_ o _arrays asociativos_, son un conjunto de parejas _**nombre**_ y _**valor**_. El _nombre_ es usualmente un String, pero no tiene por qué. Por este motivo se le llama generalmente **`clave`** en lugar de _nombre_.\n",
    "\n",
    "Los diccionarios se utilizan muchísimo para relacionar datos entre sí. Por ejemplo, en una aplicación de contactos, la _clave_ podría ser el nombre de la persona y el _valor_ su número de teléfono. Un sistema de DNS podría implementarse también con un gran diccionario: a cada nombre de servidor se le asocia su dirección IP. Si suponemos que ambos datos (nombre de servidor y dirección IP) fueran Strings, declararíamos el tipo del diccionario correspondiente así:"
   ]
  },
  {
   "cell_type": "code",
   "execution_count": 23,
   "metadata": {},
   "outputs": [],
   "source": [
    "var dns = [String : String]()"
   ]
  },
  {
   "cell_type": "markdown",
   "metadata": {},
   "source": [
    "En la declaración anterior vemos:\n",
    "* La nomenclatura `[ : ]` indica que el tipo que estamos definiendo es un diccionario. Antes del carácter `:` aparece el tipo de la clave, y después el tipo del valor.\n",
    "* El primer término `String` indica por tanto que las claves de este diccionario (los nombres de los servidores) serán strings.\n",
    "* El segundo término `String` indica que los valores asociados también serán strings.\n",
    "* Los paréntesis `()` del final indica que estamos _creando_ una instancia de un diccionario de ese tipo. Como no estamos rellenando con ningún dato, el diccionario estará vacío."
   ]
  },
  {
   "cell_type": "code",
   "execution_count": 24,
   "metadata": {},
   "outputs": [],
   "source": [
    "dns[\"www.urjc.es\"] = \"212.128.240.50\"\n",
    "dns[\"google.com\"] = \"172.217.17.14\"\n",
    "dns[\"stanford.edu\"] = \"171.67.215.200\""
   ]
  },
  {
   "cell_type": "code",
   "execution_count": 25,
   "metadata": {},
   "outputs": [
    {
     "name": "stdout",
     "output_type": "stream",
     "text": [
      "Optional(\"172.217.17.14\")\r\n"
     ]
    }
   ],
   "source": [
    "print(dns[\"google.com\"])"
   ]
  },
  {
   "cell_type": "markdown",
   "metadata": {},
   "source": [
    "Ignorando por ahora `Optional`, en las líneas anteriores vemos cómo se añaden y consultan elementos.\n",
    "\n",
    "Las claves son únicas. Si volvemos a introducir un elemento con la misma clave, el nuevo valor sustituirá al antiguo:"
   ]
  },
  {
   "cell_type": "code",
   "execution_count": null,
   "metadata": {},
   "outputs": [],
   "source": []
  },
  {
   "cell_type": "markdown",
   "metadata": {},
   "source": [
    "No hay ningún orden asociado a las claves. Podemos iterar por un diccionario, pero nos llegarán los resultados en un orden arbitrario. Lo único que se garantiza es que este orden será el mismo mientras no hagamos modificaciones en el diccionario.\n",
    "\n",
    "La iteración devuelve _tuplas_ con las claves y los valores:"
   ]
  },
  {
   "cell_type": "code",
   "execution_count": 26,
   "metadata": {},
   "outputs": [
    {
     "name": "stdout",
     "output_type": "stream",
     "text": [
      "google.com => 172.217.17.14\r\n",
      "stanford.edu => 171.67.215.200\r\n",
      "www.urjc.es => 212.128.240.50\r\n"
     ]
    }
   ],
   "source": [
    "func printDnsDictionary(_ dns: [String : String]) {\n",
    "    for (key, value) in dns {\n",
    "        print(\"\\(key) => \\(value)\")\n",
    "    }\n",
    "}\n",
    "\n",
    "printDnsDictionary(dns)"
   ]
  },
  {
   "cell_type": "markdown",
   "metadata": {},
   "source": [
    "Las operaciones básicas en diccionarios son:\n",
    "* Añadir pares clave-valor. Se modifican los valores anteriores en caso de repetición de la clave.\n",
    "* Consultar el valor asociado a una clave. \n",
    "* Eliminar elementos, que veremos a continuación."
   ]
  },
  {
   "cell_type": "code",
   "execution_count": 27,
   "metadata": {},
   "outputs": [
    {
     "name": "stdout",
     "output_type": "stream",
     "text": [
      "stanford.edu => 171.67.215.200\r\n",
      "www.urjc.es => 212.128.240.50\r\n"
     ]
    }
   ],
   "source": [
    "dns.removeValue(forKey: \"google.com\")\n",
    "\n",
    "printDnsDictionary(dns)"
   ]
  },
  {
   "cell_type": "markdown",
   "metadata": {},
   "source": [
    "(Inciso: en estos notebooks se pueden obtener sugerencias si no sabemos o no recordamos cómo se llama una propiedad. Por ejemplo, si escribimos `dns.rem` y pulsamos la tecla tabulador, veremos una lista de sugerencias).\n",
    "\n",
    "![Jupyter autocompletion](img/jupyter-autocompletion.png \"Autocompletion in Swift Jupyter\")"
   ]
  },
  {
   "cell_type": "markdown",
   "metadata": {},
   "source": [
    "Como hemos indicado, el tipo de las claves y el tipo de los valores asociados a esas claves no tienen por qué coincidir."
   ]
  },
  {
   "cell_type": "code",
   "execution_count": 28,
   "metadata": {},
   "outputs": [],
   "source": [
    "var ages = [String: Int]()\n",
    "ages[\"Pablo\"] = 25\n",
    "ages[\"Javier\"] = 20"
   ]
  },
  {
   "cell_type": "markdown",
   "metadata": {},
   "source": [
    "En este caso la clave es un `String` y el valor asociado a cada una es un `Int`."
   ]
  },
  {
   "cell_type": "markdown",
   "metadata": {},
   "source": [
    "Podemos, incluso, asociar \"varios\" valores usando tuplas u otros tipos agregados."
   ]
  },
  {
   "cell_type": "code",
   "execution_count": 29,
   "metadata": {},
   "outputs": [],
   "source": [
    "var contacts = [String : (age: Int, email: String)]()"
   ]
  },
  {
   "cell_type": "code",
   "execution_count": 30,
   "metadata": {},
   "outputs": [],
   "source": [
    "contacts[\"Pablo\"] = (25, \"pablo@xxxxx.com\")\n",
    "contacts[\"Javier\"] = (20, \"javier@yyyyy.com\")"
   ]
  },
  {
   "cell_type": "code",
   "execution_count": 31,
   "metadata": {},
   "outputs": [
    {
     "name": "stdout",
     "output_type": "stream",
     "text": [
      "Javier is 20 years old and can be contacted at javier@yyyyy.com.\r\n",
      "Pablo is 25 years old and can be contacted at pablo@xxxxx.com.\r\n"
     ]
    }
   ],
   "source": [
    "for (name, (age, email)) in contacts {\n",
    "    print(\"\\(name) is \\(age) years old and can be contacted at \\(email).\")\n",
    "}"
   ]
  },
  {
   "cell_type": "markdown",
   "metadata": {},
   "source": [
    "La enumeración `for ... in` devuelve una tupla de dos elementos: el primero es la clave y el segundo el valor. En este caso, el valor es _otra tupla_ con la edad y la dirección de correo electrónico."
   ]
  },
  {
   "cell_type": "markdown",
   "metadata": {},
   "source": [
    "Por último, examinemos el tipo _canónico_ de los diccionarios."
   ]
  },
  {
   "cell_type": "code",
   "execution_count": 32,
   "metadata": {},
   "outputs": [
    {
     "name": "stdout",
     "output_type": "stream",
     "text": [
      "Dictionary<String, String>\r\n",
      "Dictionary<String, Int>\r\n",
      "Dictionary<String, (age: Int, email: String)>\r\n"
     ]
    }
   ],
   "source": [
    "print(type(of: dns))\n",
    "print(type(of: ages))\n",
    "print(type(of: contacts))"
   ]
  },
  {
   "cell_type": "markdown",
   "metadata": {},
   "source": [
    "Nosotros podemos usar esa misma notación en nuestro código, pero suele ser más conveniente hacerlo utilizando la notación con corchetes que hemos visto en los ejemplos."
   ]
  },
  {
   "cell_type": "markdown",
   "metadata": {},
   "source": [
    "### Sets"
   ]
  },
  {
   "cell_type": "markdown",
   "metadata": {},
   "source": [
    "Los `sets` o conjuntos son, como los arrays, secuencias homogéneas de valores. Se diferencian de ellos en:\n",
    "* No pueden contener elementos repetidos.\n",
    "* No existe un índice de posición asociado a cada elemento. Si iteramos un Set podemos obtener valores en cualquier orden.\n",
    "\n",
    "Los sets se utilizan mucho menos que los arrays, pero son muy útiles cuando queremos garantizar que los elementos sean únicos."
   ]
  },
  {
   "cell_type": "code",
   "execution_count": 33,
   "metadata": {},
   "outputs": [],
   "source": [
    "var x = Set([1, 2, 3])"
   ]
  },
  {
   "cell_type": "code",
   "execution_count": 34,
   "metadata": {},
   "outputs": [
    {
     "name": "stdout",
     "output_type": "stream",
     "text": [
      "[2, 1, 3]\r\n"
     ]
    }
   ],
   "source": [
    "print(x)"
   ]
  },
  {
   "cell_type": "code",
   "execution_count": 35,
   "metadata": {},
   "outputs": [],
   "source": [
    "var knownOddNumbers = Set(someOddNumbers)"
   ]
  },
  {
   "cell_type": "code",
   "execution_count": 36,
   "metadata": {},
   "outputs": [
    {
     "name": "stdout",
     "output_type": "stream",
     "text": [
      "[3, 1, 11, 9, 7, 5]\r\n"
     ]
    }
   ],
   "source": [
    "print(knownOddNumbers)"
   ]
  },
  {
   "cell_type": "code",
   "execution_count": 37,
   "metadata": {},
   "outputs": [
    {
     "name": "stdout",
     "output_type": "stream",
     "text": [
      "6\r\n"
     ]
    }
   ],
   "source": [
    "knownOddNumbers.insert(11)\n",
    "print(knownOddNumbers.count)"
   ]
  },
  {
   "cell_type": "code",
   "execution_count": 38,
   "metadata": {},
   "outputs": [],
   "source": [
    "func findDuplicates(_ names: [String]) -> Set<String> {\n",
    "    var uniqueNames: Set<String> = []\n",
    "    var duplicates: Set<String> = []\n",
    "    for name in names {\n",
    "        if uniqueNames.contains(name) {\n",
    "            duplicates.insert(name)\n",
    "        }\n",
    "        uniqueNames.insert(name)\n",
    "    }\n",
    "    return duplicates\n",
    "}"
   ]
  },
  {
   "cell_type": "code",
   "execution_count": 39,
   "metadata": {},
   "outputs": [
    {
     "name": "stdout",
     "output_type": "stream",
     "text": [
      "[\"ana\", \"pablo\"]\r\n"
     ]
    }
   ],
   "source": [
    "print(findDuplicates([\"pedro\", \"ana\", \"javier\", \"ana\", \"ana\", \"pablo\", \"pablo\"]))"
   ]
  },
  {
   "cell_type": "markdown",
   "metadata": {},
   "source": [
    "------"
   ]
  },
  {
   "cell_type": "markdown",
   "metadata": {},
   "source": [
    "**Ejercicio 1**\n",
    "\n",
    "Escribe una función que acepte como parámetro de entrada una lista de `String`s, y devuelva los nombres únicos que figuran en la lista, sin ningún orden en particular.\n",
    "\n",
    "Escribe el código necesario para comprobar que funciona correctamente.\n",
    "\n",
    "Utiliza nombres sensatos para la función y las variables que utilices."
   ]
  },
  {
   "cell_type": "markdown",
   "metadata": {},
   "source": [
    "**Versión 1**: utilizando la función `findDuplicates` definida antes. Como ya la tenemos hecha y ésta nos suena que puede ser parecida, probamos a reutilizar y adaptar el código:"
   ]
  },
  {
   "cell_type": "code",
   "execution_count": 40,
   "metadata": {},
   "outputs": [
    {
     "name": "stdout",
     "output_type": "stream",
     "text": [
      "[\"ana\", \"pedro\", \"javier\", \"pablo\"]\r\n"
     ]
    }
   ],
   "source": [
    "func findUnique(_ names: [String]) -> Set<String> {\n",
    "    var uniqueNames: Set<String> = []\n",
    "    var duplicates: Set<String> = []\n",
    "    for name in names {\n",
    "        if uniqueNames.contains(name) {\n",
    "            duplicates.insert(name)\n",
    "        }\n",
    "        uniqueNames.insert(name)\n",
    "    }\n",
    "    return uniqueNames\n",
    "}\n",
    "\n",
    "print(findUnique([\"pedro\", \"ana\", \"javier\", \"ana\", \"ana\", \"pablo\", \"pablo\"]))"
   ]
  },
  {
   "cell_type": "markdown",
   "metadata": {},
   "source": [
    "Ya está? No, porque se puede simplificar. Ya tenemos una versión que funciona, lo cual es importante, pero no necesitamos el `Set` donde vamos guardando los duplicados, así que lo quitamos."
   ]
  },
  {
   "cell_type": "markdown",
   "metadata": {},
   "source": [
    "**Versión 2**: eliminamos la variable `duplicates`, que ahora no nos hace falta."
   ]
  },
  {
   "cell_type": "code",
   "execution_count": 41,
   "metadata": {},
   "outputs": [
    {
     "name": "stdout",
     "output_type": "stream",
     "text": [
      "[\"ana\", \"pedro\", \"javier\", \"pablo\"]\r\n"
     ]
    }
   ],
   "source": [
    "func findUnique(_ names: [String]) -> Set<String> {\n",
    "    var uniqueNames: Set<String> = []\n",
    "    for name in names {\n",
    "        uniqueNames.insert(name)\n",
    "    }\n",
    "    return uniqueNames\n",
    "}\n",
    "\n",
    "print(findUnique([\"pedro\", \"ana\", \"javier\", \"ana\", \"ana\", \"pablo\", \"pablo\"]))"
   ]
  },
  {
   "cell_type": "markdown",
   "metadata": {},
   "source": [
    "Funciona igual pero con menos líneas de código, así que esta versión es mejor.\n",
    "\n",
    "Pero antes hemos visto que podemos hacer un `Set` directamente partiendo de un array, vamos a probarlo."
   ]
  },
  {
   "cell_type": "markdown",
   "metadata": {},
   "source": [
    "**Versión 3**: Creamos el `Set` directamente, sin iterar."
   ]
  },
  {
   "cell_type": "code",
   "execution_count": 42,
   "metadata": {},
   "outputs": [
    {
     "name": "stdout",
     "output_type": "stream",
     "text": [
      "[\"pedro\", \"ana\", \"pablo\", \"javier\"]\r\n"
     ]
    }
   ],
   "source": [
    "func findUnique(_ names: [String]) -> Set<String> {\n",
    "    var uniqueNames: Set<String> = Set(names)\n",
    "    return uniqueNames\n",
    "}\n",
    "\n",
    "print(findUnique([\"pedro\", \"ana\", \"javier\", \"ana\", \"ana\", \"pablo\", \"pablo\"]))"
   ]
  },
  {
   "cell_type": "markdown",
   "metadata": {},
   "source": [
    "Una última simplificación: como estamos creando la variable `uniqueNames` para devolverla justo en la línea siguiente, en este caso podemos hacerlo todo en la misma línea sin perder claridad:"
   ]
  },
  {
   "cell_type": "markdown",
   "metadata": {},
   "source": [
    "**Versión 4**: Una única linea de código."
   ]
  },
  {
   "cell_type": "code",
   "execution_count": 43,
   "metadata": {},
   "outputs": [
    {
     "name": "stdout",
     "output_type": "stream",
     "text": [
      "[\"pedro\", \"ana\", \"pablo\", \"javier\"]\r\n"
     ]
    }
   ],
   "source": [
    "func findUnique(_ names: [String]) -> Set<String> {\n",
    "    return Set(names)\n",
    "}\n",
    "\n",
    "print(findUnique([\"pedro\", \"ana\", \"javier\", \"ana\", \"ana\", \"pablo\", \"pablo\"]))"
   ]
  },
  {
   "cell_type": "markdown",
   "metadata": {},
   "source": [
    "Lo habitual en este tipo de funciones de _filtrado_ o _transformación_ es devolver el mismo tipo de dato que nos suministraron como entrada. En nuestro caso, partíamos de un `Array` pero estamos devolviendo un `Set`. Vamos a ajustarlo:"
   ]
  },
  {
   "cell_type": "markdown",
   "metadata": {},
   "source": [
    "**Versión 5**: Devolvemos el mismo tipo de dato que el argumento."
   ]
  },
  {
   "cell_type": "code",
   "execution_count": 44,
   "metadata": {},
   "outputs": [
    {
     "name": "stdout",
     "output_type": "stream",
     "text": [
      "[\"pedro\", \"ana\", \"pablo\", \"javier\"]\r\n"
     ]
    }
   ],
   "source": [
    "// Note: this version returns an Array instead of a Set\n",
    "func findUnique(_ names: [String]) -> [String] {\n",
    "    return Array(Set(names))\n",
    "}\n",
    "\n",
    "print(findUnique([\"pedro\", \"ana\", \"javier\", \"ana\", \"ana\", \"pablo\", \"pablo\"]))"
   ]
  },
  {
   "cell_type": "markdown",
   "metadata": {},
   "source": [
    "**Importante**: observa cómo _siempre_ hemos partido de una versión que funciona (hemos hecho un _test_ que lo verifica), y después de cada modificación probamos que nuestro test sigue funcionando.\n",
    "\n",
    "Este mecanismo podemos generalizarlo e incluso podemos pensar en crear el test **antes** del código. Elaborar el test nos ayuda a pensar cómo tiene que funcionar el código, y nos permite tener una prueba sobre la que poder ir trabajando y verificar qué casos funcionan y cuáles no.\n",
    "\n",
    "Este método de trabajo se conoce como **test-driven-development**."
   ]
  },
  {
   "cell_type": "markdown",
   "metadata": {},
   "source": [
    "**Ejercicio 2**\n",
    "\n",
    "Implementa un contador.\n",
    "\n",
    "Escribe una función que acepte como parámetro de entrada una lista de `String`s, y devuelva como salida un diccionario cuyas claves serán los elementos (únicos) de la lista, y cuyos valores serán el número de veces que se repiten en la lista.\n",
    "\n",
    "Escribe el código necesario para comprobar que funciona correctamente.\n",
    "\n",
    "Utiliza nombres sensatos para la función y las variables que utilices."
   ]
  },
  {
   "cell_type": "markdown",
   "metadata": {},
   "source": [
    "Empezamos con algo sencillo, aunque esté mal."
   ]
  },
  {
   "cell_type": "code",
   "execution_count": 45,
   "metadata": {},
   "outputs": [
    {
     "name": "stdout",
     "output_type": "stream",
     "text": [
      "[\"ana\": 1, \"pedro\": 1, \"javier\": 1, \"pablo\": 1]\r\n"
     ]
    }
   ],
   "source": [
    "func countNames(_ names: [String]) -> [String : Int] {\n",
    "    var counter = [String : Int]()   // Creamos un diccionario vacío para almacenar el resultado\n",
    "    for name in names {\n",
    "        counter[name] = 1            // Asignamos 1 al nombre\n",
    "    }\n",
    "    return counter\n",
    "}\n",
    "\n",
    "print(countNames([\"pedro\", \"ana\", \"javier\", \"ana\", \"ana\", \"pablo\", \"pablo\"]))"
   ]
  },
  {
   "cell_type": "markdown",
   "metadata": {},
   "source": [
    "Ok, ahora sólo tenemos que sumar uno al valor que hubiera antes, si había alguno. Vamos a intentarlo:"
   ]
  },
  {
   "cell_type": "code",
   "execution_count": 46,
   "metadata": {},
   "outputs": [
    {
     "ename": "",
     "evalue": "",
     "output_type": "error",
     "traceback": [
      "error: <Cell 46>:4:32: error: value of optional type 'Int?' must be unwrapped to a value of type 'Int'\n        counter[name] = counter[name] + 1\n                               ^\n\n<Cell 46>:4:32: note: coalesce using '??' to provide a default when the optional value contains 'nil'\n        counter[name] = counter[name] + 1\n                               ^\n                                      ?? <#default value#>\n\n<Cell 46>:4:32: note: force-unwrap using '!' to abort execution if the optional value contains 'nil'\n        counter[name] = counter[name] + 1\n                               ^\n                                     !\n\n"
     ]
    }
   ],
   "source": [
    "func countNames(_ names: [String]) -> [String : Int] {\n",
    "    var counter = [String : Int]()\n",
    "    for name in names {\n",
    "        counter[name] = counter[name] + 1\n",
    "    }\n",
    "    return counter\n",
    "}\n",
    "\n",
    "print(countNames([\"pedro\", \"ana\", \"javier\", \"ana\", \"ana\", \"pablo\", \"pablo\"]))"
   ]
  },
  {
   "cell_type": "markdown",
   "metadata": {},
   "source": [
    "No funciona.\n",
    "\n",
    "El problema, esencialmente, es que `counter[name]` **no tiene el valor 0** si la clave no se encuentra. El valor no está definido, o es `nil`.\n",
    "\n",
    "Vamos a verlo con un ejemplo:"
   ]
  },
  {
   "cell_type": "code",
   "execution_count": 47,
   "metadata": {},
   "outputs": [],
   "source": [
    "var testDictionary = [\"Peter\" :  1]"
   ]
  },
  {
   "cell_type": "code",
   "execution_count": 48,
   "metadata": {},
   "outputs": [
    {
     "name": "stdout",
     "output_type": "stream",
     "text": [
      "nil\r\n"
     ]
    }
   ],
   "source": [
    "print(testDictionary[\"Paul\"])"
   ]
  },
  {
   "cell_type": "markdown",
   "metadata": {},
   "source": [
    "Es `nil`, lo que indica que no tiene ningún valor asignado."
   ]
  },
  {
   "cell_type": "code",
   "execution_count": 49,
   "metadata": {},
   "outputs": [
    {
     "name": "stdout",
     "output_type": "stream",
     "text": [
      "Optional(1)\r\n"
     ]
    }
   ],
   "source": [
    "print(testDictionary[\"Peter\"])"
   ]
  },
  {
   "cell_type": "markdown",
   "metadata": {},
   "source": [
    "¿Qué es **`Optional`**?\n",
    "\n",
    "Se trata de un tipo especial que indica que el elemento en cuestión puede tener un valor asignado, o puede ser `nil`. Cuando accedemos a las claves de un diccionario el diccionario **no** nos entrega el valor, sino un `Optional` que a su vez contiene el valor. Esto es porque las claves por las que preguntamos pueden estar o no en el diccionario, y eso no se sabe a priori.\n",
    "\n",
    "En otros lenguajes, si accedemos a datos no inicializados, o nulos, el programa generalmente muere. En Swift se evita esta situación obligando al programador a especificar qué datos pueden o no ser `nil`."
   ]
  },
  {
   "cell_type": "markdown",
   "metadata": {},
   "source": [
    "¿Cómo se accede entonces al contenido que está dentro del `Optional`, cuando éste no es `nil`?"
   ]
  },
  {
   "cell_type": "code",
   "execution_count": 50,
   "metadata": {},
   "outputs": [],
   "source": [
    "let peter = testDictionary[\"Peter\"]"
   ]
  },
  {
   "cell_type": "code",
   "execution_count": 51,
   "metadata": {},
   "outputs": [
    {
     "ename": "",
     "evalue": "",
     "output_type": "error",
     "traceback": [
      "error: <Cell 51>:1:7: error: value of optional type 'Int?' must be unwrapped to a value of type 'Int'\nprint(peter + 1)\n      ^\n\n<Cell 51>:1:7: note: coalesce using '??' to provide a default when the optional value contains 'nil'\nprint(peter + 1)\n      ^\n            ?? <#default value#>\n\n<Cell 51>:1:7: note: force-unwrap using '!' to abort execution if the optional value contains 'nil'\nprint(peter + 1)\n      ^\n           !\n\n"
     ]
    }
   ],
   "source": [
    "print(peter + 1)"
   ]
  },
  {
   "cell_type": "code",
   "execution_count": 52,
   "metadata": {},
   "outputs": [
    {
     "name": "stdout",
     "output_type": "stream",
     "text": [
      "Optional<Int>\r\n"
     ]
    }
   ],
   "source": [
    "print(type(of: peter))"
   ]
  },
  {
   "cell_type": "markdown",
   "metadata": {},
   "source": [
    "**Ojo**: la variable no es un `Int`, sino un `Optional` que puede (o no) contener un `Int`."
   ]
  },
  {
   "cell_type": "markdown",
   "metadata": {},
   "source": [
    "Si estamos seguros de que la variable necesariamente contiene un dato, podemos \"desempaquetar\" el valor utilizando **`!`**, como nos indica el mensaje de error de la celda anterior:"
   ]
  },
  {
   "cell_type": "code",
   "execution_count": 53,
   "metadata": {},
   "outputs": [
    {
     "name": "stdout",
     "output_type": "stream",
     "text": [
      "2\r\n"
     ]
    }
   ],
   "source": [
    "print(peter! + 1)"
   ]
  },
  {
   "cell_type": "markdown",
   "metadata": {},
   "source": [
    "Con el sufijo **`!`** indicamos que sabemos que ese elemento necesariamente contiene un valor y forzamos su extracción.\n",
    "\n",
    "Sin embargo, si nos equivocamos y el valor es `nil`, nuestro programa **morirá**."
   ]
  },
  {
   "cell_type": "code",
   "execution_count": 54,
   "metadata": {},
   "outputs": [],
   "source": [
    "let y = testDictionary[\"dato_que_no_existe\"]"
   ]
  },
  {
   "cell_type": "code",
   "execution_count": 55,
   "metadata": {},
   "outputs": [
    {
     "name": "stdout",
     "output_type": "stream",
     "text": [
      "Fatal error: Unexpectedly found nil while unwrapping an Optional value: file __lldb_expr_324/<Cell 55>, line 1\r\n",
      "Current stack trace:\r\n",
      "0    libswiftCore.so                    0x00007f997b1f5f40 swift_reportError + 50\r\n",
      "1    libswiftCore.so                    0x00007f997b261f30 _swift_stdlib_reportFatalErrorInFile + 115\r\n",
      "2    libswiftCore.so                    0x00007f997aecbaa8 <unavailable> + 1620648\r\n",
      "3    libswiftCore.so                    0x00007f997aecb5a6 <unavailable> + 1619366\r\n",
      "4    libswiftCore.so                    0x00007f997aecb211 <unavailable> + 1618449\r\n",
      "5    libswiftCore.so                    0x00007f997aecac20 _assertionFailure(_:_:file:line:flags:) + 525\r\n"
     ]
    },
    {
     "ename": "",
     "evalue": "",
     "output_type": "error",
     "traceback": [
      "Current stack trace:",
      "\tframe #4: \u001b[33m0x00007f997894a282\u001b[0m $__lldb_expr325`main at \u001b[36m<Cell 55>\u001b[0m:\u001b[33m0\u001b[0m"
     ]
    }
   ],
   "source": [
    "print(y! + 1)"
   ]
  },
  {
   "cell_type": "markdown",
   "metadata": {},
   "source": [
    "Por tanto, se **desaconseja encarecidamente el uso de `!`** a menos que sea absolutamente imprescindible. En seguida veremos otras formas seguras de utilizar `Optional`s."
   ]
  },
  {
   "cell_type": "markdown",
   "metadata": {},
   "source": [
    "Pero antes, usemos este conocimiento para terminar el ejercicio."
   ]
  },
  {
   "cell_type": "code",
   "execution_count": 56,
   "metadata": {},
   "outputs": [
    {
     "name": "stdout",
     "output_type": "stream",
     "text": [
      "[\"ana\": 3, \"pedro\": 1, \"javier\": 1, \"pablo\": 2]\r\n"
     ]
    }
   ],
   "source": [
    "func countNames(_ names: [String]) -> [String : Int] {\n",
    "    var counter = [String : Int]()\n",
    "    for name in names {\n",
    "        let currentCount = counter[name]\n",
    "        if currentCount == nil {\n",
    "            counter[name] = 1\n",
    "        } else {\n",
    "            counter[name] = currentCount! + 1\n",
    "        }\n",
    "    }\n",
    "    return counter\n",
    "}\n",
    "\n",
    "print(countNames([\"pedro\", \"ana\", \"javier\", \"ana\", \"ana\", \"pablo\", \"pablo\"]))"
   ]
  },
  {
   "cell_type": "markdown",
   "metadata": {},
   "source": [
    "Posteriormente veremos la forma de eliminar esa **`!`** del código y que además quede más claro."
   ]
  },
  {
   "cell_type": "markdown",
   "metadata": {},
   "source": [
    "## `Optional`"
   ]
  },
  {
   "cell_type": "markdown",
   "metadata": {},
   "source": [
    "Ya hemos visto en el ejemplo anterior los fundamentos de `Optional`: se trata de un _tipo_ especial que a su vez contiene _otro tipo_ base. Los valores del tipo `Optional` pueden considerarse una \"caja\" que, o bien contiene un valor del tipo base, o bien es `nil`."
   ]
  },
  {
   "cell_type": "markdown",
   "metadata": {},
   "source": [
    "También hemos visto antes que el resultado de consultar en un diccionario el valor de una clave, es un `Optional` sobre el tipo del valor."
   ]
  },
  {
   "cell_type": "code",
   "execution_count": 57,
   "metadata": {},
   "outputs": [
    {
     "name": "stdout",
     "output_type": "stream",
     "text": [
      "Optional<String>\r\n"
     ]
    }
   ],
   "source": [
    "let ipURJC = dns[\"www.urjc.es\"]\n",
    "print(type(of: ipURJC))"
   ]
  },
  {
   "cell_type": "markdown",
   "metadata": {},
   "source": [
    "Nosotros podemos declarar también `Optional`s en nuestro código utilizando el mismo sistema:"
   ]
  },
  {
   "cell_type": "code",
   "execution_count": 58,
   "metadata": {},
   "outputs": [],
   "source": [
    "var name: Optional<String> = nil\n",
    "var age: Optional<Int> = 25"
   ]
  },
  {
   "cell_type": "markdown",
   "metadata": {},
   "source": [
    "Pero es mucho más frecuente, y claro, utilizando el sufijo **`?`**"
   ]
  },
  {
   "cell_type": "code",
   "execution_count": 59,
   "metadata": {},
   "outputs": [],
   "source": [
    "var name: String? = nil\n",
    "var age: Int? = 25"
   ]
  },
  {
   "cell_type": "markdown",
   "metadata": {},
   "source": [
    "La interrogación es un \"recordatorio\" de que la variable puede que contenga el valor, o puede que no."
   ]
  },
  {
   "cell_type": "markdown",
   "metadata": {},
   "source": [
    "Durante el curso usaremos casi siempre esta segunda versión."
   ]
  },
  {
   "cell_type": "markdown",
   "metadata": {},
   "source": [
    "### Trabajando con `Optional`s: `if let`"
   ]
  },
  {
   "cell_type": "markdown",
   "metadata": {},
   "source": [
    "Para comprobar si un `Optional` tiene contenido, podemos comparar con `nil`, y si el valor no es `nil` entonces podemos utilizar la `!` para acceder al contenido:"
   ]
  },
  {
   "cell_type": "code",
   "execution_count": 60,
   "metadata": {},
   "outputs": [
    {
     "name": "stdout",
     "output_type": "stream",
     "text": [
      "Edad: 25\r\n"
     ]
    }
   ],
   "source": [
    "if age != nil {\n",
    "    print(\"Edad: \\(age!)\")\n",
    "} else {\n",
    "    print(\"Edad desconocida\")\n",
    "}"
   ]
  },
  {
   "cell_type": "markdown",
   "metadata": {},
   "source": [
    "En este código tenemos el problema de que hay que seguir usando `!`, lo que es peligroso. Pensad qué ocurre si por el motivo que sea cambiamos la condición del `if` en el futuro, pero no caemos en eliminar las `!`. Además es engorroso, imaginad que dentro del `if` hubiera más líneas que usan esa variable.\n",
    "\n",
    "Además, este patrón (comprobar si es `nil`, y acceder al dato si no lo es) es muy frecuente, por lo que Swift tiene un mecanismo específico para contemplarlo:"
   ]
  },
  {
   "cell_type": "code",
   "execution_count": 61,
   "metadata": {},
   "outputs": [
    {
     "name": "stdout",
     "output_type": "stream",
     "text": [
      "Edad: 25\r\n"
     ]
    }
   ],
   "source": [
    "if let valorEdad = age {\n",
    "    print(\"Edad: \\(valorEdad)\")\n",
    "} else {\n",
    "    print(\"Edad desconocida\")\n",
    "}"
   ]
  },
  {
   "cell_type": "markdown",
   "metadata": {},
   "source": [
    "Se trata de un `if` especial que sirve para \"desempaquetar\" el valor que contiene un `Optional`, siempre que no sea `nil`. La variable asignada ya no es un opcional; en este caso sería un `Int`, y sólo se asigna si `age` no es `nil`.\n",
    "\n",
    "Esta construcción es especial, sólo puede hacerse con `if let` (~~`if var`~~ no existe)."
   ]
  },
  {
   "cell_type": "code",
   "execution_count": 62,
   "metadata": {},
   "outputs": [
    {
     "name": "stdout",
     "output_type": "stream",
     "text": [
      "age es de tipo Optional<Int>\r\n",
      "El valor desempaquetado es de tipo: Int\r\n"
     ]
    }
   ],
   "source": [
    "print(\"age es de tipo \\(type(of: age))\")\n",
    "if let valorEdad = age {\n",
    "    print(\"El valor desempaquetado es de tipo: \\(type(of: valorEdad))\")\n",
    "}"
   ]
  },
  {
   "cell_type": "markdown",
   "metadata": {},
   "source": [
    "Además, la variable donde desempaquetamos el opcional **sólo existe en el contexto del `if let`**, no tiene validez fuera de ese trozo de código.\n",
    "\n",
    "Esto permite utilizar expresiones como la siguiente:"
   ]
  },
  {
   "cell_type": "code",
   "execution_count": 63,
   "metadata": {},
   "outputs": [
    {
     "name": "stdout",
     "output_type": "stream",
     "text": [
      "Edad: 25\r\n"
     ]
    }
   ],
   "source": [
    "if let age = age {\n",
    "    print(\"Edad: \\(age)\")\n",
    "} else {\n",
    "    print(\"Edad desconocida\")\n",
    "}"
   ]
  },
  {
   "cell_type": "code",
   "execution_count": 64,
   "metadata": {},
   "outputs": [
    {
     "name": "stdout",
     "output_type": "stream",
     "text": [
      "Optional(25)\r\n"
     ]
    }
   ],
   "source": [
    "print(age)"
   ]
  },
  {
   "cell_type": "markdown",
   "metadata": {},
   "source": [
    "El `age` que se utiliza dentro de `if let` es una variable diferente a la de fuera, lo que nos permite utilizar el mismo nombre."
   ]
  },
  {
   "cell_type": "markdown",
   "metadata": {},
   "source": [
    "### Uso de `??`"
   ]
  },
  {
   "cell_type": "markdown",
   "metadata": {},
   "source": [
    "Este operador es muy útil para trabajar con `Optional`s. Nos permite sustituir el optional por un valor por defecto en caso de que la variable sea `nil`. Si no fuera `nil`, se utilizaría su valor desempaquetado.\n",
    "\n",
    "Veámoslo con un ejemplo."
   ]
  },
  {
   "cell_type": "code",
   "execution_count": 65,
   "metadata": {},
   "outputs": [],
   "source": [
    "var name: Optional<String> = nil\n",
    "var age: Optional<Int> = 25"
   ]
  },
  {
   "cell_type": "code",
   "execution_count": 66,
   "metadata": {},
   "outputs": [
    {
     "name": "stdout",
     "output_type": "stream",
     "text": [
      "Desconocido\r\n"
     ]
    }
   ],
   "source": [
    "print(name ?? \"Desconocido\")"
   ]
  },
  {
   "cell_type": "code",
   "execution_count": 67,
   "metadata": {},
   "outputs": [
    {
     "name": "stdout",
     "output_type": "stream",
     "text": [
      "Pedro\r\n"
     ]
    }
   ],
   "source": [
    "name = \"Pedro\"\n",
    "print(name ?? \"Desconocido\")"
   ]
  },
  {
   "cell_type": "code",
   "execution_count": 68,
   "metadata": {},
   "outputs": [
    {
     "name": "stdout",
     "output_type": "stream",
     "text": [
      "25\r\n"
     ]
    }
   ],
   "source": [
    "print(age ?? 0)"
   ]
  },
  {
   "cell_type": "markdown",
   "metadata": {},
   "source": [
    "-----"
   ]
  },
  {
   "cell_type": "markdown",
   "metadata": {},
   "source": [
    "Con estos conocimientos podemos mejorar nuestra implementación del ejercicio 2. Esta era la versión que teníamos:"
   ]
  },
  {
   "cell_type": "code",
   "execution_count": 69,
   "metadata": {},
   "outputs": [
    {
     "name": "stdout",
     "output_type": "stream",
     "text": [
      "[\"ana\": 3, \"pedro\": 1, \"javier\": 1, \"pablo\": 2]\r\n"
     ]
    }
   ],
   "source": [
    "func countNames(_ names: [String]) -> [String : Int] {\n",
    "    var counter = [String : Int]()\n",
    "    for name in names {\n",
    "        let currentCount = counter[name]\n",
    "        if currentCount == nil {\n",
    "            counter[name] = 1\n",
    "        } else {\n",
    "            counter[name] = currentCount! + 1\n",
    "        }\n",
    "    }\n",
    "    return counter\n",
    "}\n",
    "\n",
    "print(countNames([\"pedro\", \"ana\", \"javier\", \"ana\", \"ana\", \"pablo\", \"pablo\"]))"
   ]
  },
  {
   "cell_type": "markdown",
   "metadata": {},
   "source": [
    "**Versión 2**: usamos `if let`:"
   ]
  },
  {
   "cell_type": "code",
   "execution_count": 70,
   "metadata": {},
   "outputs": [
    {
     "name": "stdout",
     "output_type": "stream",
     "text": [
      "[\"ana\": 3, \"pedro\": 1, \"javier\": 1, \"pablo\": 2]\r\n"
     ]
    }
   ],
   "source": [
    "func countNames(_ names: [String]) -> [String : Int] {\n",
    "    var counter = [String : Int]()\n",
    "    for name in names {\n",
    "        if let currentCount = counter[name] {\n",
    "            counter[name] = currentCount + 1\n",
    "        } else {\n",
    "            counter[name] = 1\n",
    "        }\n",
    "    }\n",
    "    return counter\n",
    "}\n",
    "\n",
    "print(countNames([\"pedro\", \"ana\", \"javier\", \"ana\", \"ana\", \"pablo\", \"pablo\"]))"
   ]
  },
  {
   "cell_type": "markdown",
   "metadata": {},
   "source": [
    "**Versión 3**: usamos `??`:"
   ]
  },
  {
   "cell_type": "code",
   "execution_count": 71,
   "metadata": {},
   "outputs": [
    {
     "name": "stdout",
     "output_type": "stream",
     "text": [
      "[\"ana\": 3, \"pedro\": 1, \"javier\": 1, \"pablo\": 2]\r\n"
     ]
    }
   ],
   "source": [
    "func countNames(_ names: [String]) -> [String : Int] {\n",
    "    var counter = [String : Int]()\n",
    "    for name in names {\n",
    "        counter[name] = (counter[name] ?? 0) + 1\n",
    "    }\n",
    "    return counter\n",
    "}\n",
    "\n",
    "print(countNames([\"pedro\", \"ana\", \"javier\", \"ana\", \"ana\", \"pablo\", \"pablo\"]))"
   ]
  },
  {
   "cell_type": "markdown",
   "metadata": {},
   "source": [
    "**Alternativa (Rebeca)**: usamos una versión especial de la función de acceso a la clave en la que indicamos un valor por defecto, que se utiliza en caso de que la clave no exista:"
   ]
  },
  {
   "cell_type": "code",
   "execution_count": 72,
   "metadata": {},
   "outputs": [],
   "source": [
    "func countNames_rebeca(_ names: [String]) -> [String : Int] {\n",
    "    var counter = [String : Int]()\n",
    "    for name in names {\n",
    "        counter[name, default: 0] += 1\n",
    "    }\n",
    "    return counter\n",
    "\n",
    "}"
   ]
  },
  {
   "cell_type": "code",
   "execution_count": 73,
   "metadata": {},
   "outputs": [
    {
     "name": "stdout",
     "output_type": "stream",
     "text": [
      "[\"ana\": 3, \"pedro\": 1, \"javier\": 1, \"pablo\": 2]\r\n"
     ]
    }
   ],
   "source": [
    "print(countNames_rebeca([\"pedro\", \"ana\", \"javier\", \"ana\", \"ana\", \"pablo\", \"pablo\"]))"
   ]
  },
  {
   "cell_type": "code",
   "execution_count": null,
   "metadata": {},
   "outputs": [],
   "source": []
  },
  {
   "cell_type": "markdown",
   "metadata": {},
   "source": [
    "-----"
   ]
  },
  {
   "cell_type": "markdown",
   "metadata": {},
   "source": [
    "## Control de flujo, bucles, rangos"
   ]
  },
  {
   "cell_type": "markdown",
   "metadata": {},
   "source": [
    "### `if`, `for ... in`"
   ]
  },
  {
   "cell_type": "markdown",
   "metadata": {},
   "source": [
    "Ya los hemos visto en ejemplos anteriores."
   ]
  },
  {
   "cell_type": "markdown",
   "metadata": {},
   "source": [
    "### `while`"
   ]
  },
  {
   "cell_type": "code",
   "execution_count": 73,
   "metadata": {},
   "outputs": [
    {
     "name": "stdout",
     "output_type": "stream",
     "text": [
      "El cuadrado de 1 es 1\r\n",
      "El cuadrado de 2 es 4\r\n",
      "El cuadrado de 3 es 9\r\n",
      "El cuadrado de 4 es 16\r\n",
      "El cuadrado de 5 es 25\r\n",
      "El cuadrado de 6 es 36\r\n",
      "El cuadrado de 7 es 49\r\n",
      "El cuadrado de 8 es 64\r\n",
      "El cuadrado de 9 es 81\r\n"
     ]
    }
   ],
   "source": [
    "var n = 1\n",
    "while n < 10 {\n",
    "    print(\"El cuadrado de \\(n) es \\(n * n)\")\n",
    "    n = n + 1\n",
    "}"
   ]
  },
  {
   "cell_type": "markdown",
   "metadata": {},
   "source": [
    "### `repeat ... while`"
   ]
  },
  {
   "cell_type": "markdown",
   "metadata": {},
   "source": [
    "Muy parecido al anterior, pero siempre se ejecuta al menos una vez, pues la condición se comprueba al final."
   ]
  },
  {
   "cell_type": "code",
   "execution_count": 74,
   "metadata": {},
   "outputs": [
    {
     "name": "stdout",
     "output_type": "stream",
     "text": [
      "El cuadrado de 1 es 1\r\n",
      "El cuadrado de 2 es 4\r\n",
      "El cuadrado de 3 es 9\r\n",
      "El cuadrado de 4 es 16\r\n",
      "El cuadrado de 5 es 25\r\n",
      "El cuadrado de 6 es 36\r\n",
      "El cuadrado de 7 es 49\r\n",
      "El cuadrado de 8 es 64\r\n",
      "El cuadrado de 9 es 81\r\n"
     ]
    }
   ],
   "source": [
    "var n = 1\n",
    "repeat {\n",
    "    print(\"El cuadrado de \\(n) es \\(n * n)\")\n",
    "    n = n + 1\n",
    "} while n < 10"
   ]
  },
  {
   "cell_type": "markdown",
   "metadata": {},
   "source": [
    "### Rangos"
   ]
  },
  {
   "cell_type": "markdown",
   "metadata": {},
   "source": [
    "Para este tipo de bucles, en Swift es muy frecuente utilizar **rangos**:"
   ]
  },
  {
   "cell_type": "code",
   "execution_count": 75,
   "metadata": {},
   "outputs": [
    {
     "name": "stdout",
     "output_type": "stream",
     "text": [
      "El cuadrado de 1 es 1\r\n",
      "El cuadrado de 2 es 4\r\n",
      "El cuadrado de 3 es 9\r\n",
      "El cuadrado de 4 es 16\r\n",
      "El cuadrado de 5 es 25\r\n",
      "El cuadrado de 6 es 36\r\n",
      "El cuadrado de 7 es 49\r\n",
      "El cuadrado de 8 es 64\r\n",
      "El cuadrado de 9 es 81\r\n"
     ]
    }
   ],
   "source": [
    "for n in 1..<10 {\n",
    "    print(\"El cuadrado de \\(n) es \\(n * n)\")\n",
    "}"
   ]
  },
  {
   "cell_type": "markdown",
   "metadata": {},
   "source": [
    "Obsérvese que el código es mucho más conciso, y mucho más claro. No necesitamos actualizar la variable de iteración `n`."
   ]
  },
  {
   "cell_type": "markdown",
   "metadata": {},
   "source": [
    "Los rangos definidos con `..<` no incluyen el último elemento. Si los definimos con `...`, entonces el último elemento sí estaria incluido:"
   ]
  },
  {
   "cell_type": "code",
   "execution_count": 76,
   "metadata": {},
   "outputs": [
    {
     "name": "stdout",
     "output_type": "stream",
     "text": [
      "El cuadrado de 1 es 1\r\n",
      "El cuadrado de 2 es 4\r\n",
      "El cuadrado de 3 es 9\r\n",
      "El cuadrado de 4 es 16\r\n",
      "El cuadrado de 5 es 25\r\n",
      "El cuadrado de 6 es 36\r\n",
      "El cuadrado de 7 es 49\r\n",
      "El cuadrado de 8 es 64\r\n",
      "El cuadrado de 9 es 81\r\n",
      "El cuadrado de 10 es 100\r\n"
     ]
    }
   ],
   "source": [
    "for n in 1...10 {\n",
    "    print(\"El cuadrado de \\(n) es \\(n * n)\")\n",
    "}"
   ]
  },
  {
   "cell_type": "markdown",
   "metadata": {},
   "source": [
    "Los rangos **también son tipos**, por lo que pueden asignarse a variables y enviarse como argumentos a funciones. Pueden, incluso, ser rangos **parciales**, que no están definidos por uno de los extremos. Los siguientes ejemplos definen rangos parciales que, además, son _infinitos_:"
   ]
  },
  {
   "cell_type": "code",
   "execution_count": 77,
   "metadata": {},
   "outputs": [],
   "source": [
    "let positives = 1...\n",
    "let naturals = 0..."
   ]
  },
  {
   "cell_type": "markdown",
   "metadata": {},
   "source": [
    "No tiene mucho sentido iterar sobre rangos infinitos, pero podemos consultar si un elemento está comprendido dentro del rango que nos interesa:"
   ]
  },
  {
   "cell_type": "code",
   "execution_count": 78,
   "metadata": {},
   "outputs": [
    {
     "name": "stdout",
     "output_type": "stream",
     "text": [
      "false\r\n",
      "true\r\n"
     ]
    }
   ],
   "source": [
    "print(positives.contains(0))\n",
    "print(naturals.contains(0))"
   ]
  },
  {
   "cell_type": "markdown",
   "metadata": {},
   "source": [
    "El operador `~=` es equivalente a la función `contains()`."
   ]
  },
  {
   "cell_type": "code",
   "execution_count": 79,
   "metadata": {},
   "outputs": [
    {
     "name": "stdout",
     "output_type": "stream",
     "text": [
      "false\r\n",
      "true\r\n"
     ]
    }
   ],
   "source": [
    "print(positives ~= 0)\n",
    "print(naturals ~= 0)"
   ]
  },
  {
   "cell_type": "markdown",
   "metadata": {},
   "source": [
    "Los rangos pueden utilizarse como **índices de arrays**. Si el rango tiene más elemento, seleccionamos un subconjunto del array, lo que se suele conocer como _slice_ (rodaja)."
   ]
  },
  {
   "cell_type": "code",
   "execution_count": 80,
   "metadata": {},
   "outputs": [],
   "source": [
    "let someNames = [\"pedro\", \"ana\", \"javier\", \"pablo\"]"
   ]
  },
  {
   "cell_type": "code",
   "execution_count": 81,
   "metadata": {},
   "outputs": [
    {
     "name": "stdout",
     "output_type": "stream",
     "text": [
      "pedro\r\n"
     ]
    }
   ],
   "source": [
    "print(someNames[0])  // Indice"
   ]
  },
  {
   "cell_type": "code",
   "execution_count": 82,
   "metadata": {},
   "outputs": [
    {
     "name": "stdout",
     "output_type": "stream",
     "text": [
      "[\"pedro\", \"ana\"]\r\n"
     ]
    }
   ],
   "source": [
    "print(someNames[0...1])   // Rango: del 0 al 1 inclusive"
   ]
  },
  {
   "cell_type": "code",
   "execution_count": 83,
   "metadata": {},
   "outputs": [
    {
     "name": "stdout",
     "output_type": "stream",
     "text": [
      "[\"ana\", \"javier\", \"pablo\"]\r\n"
     ]
    }
   ],
   "source": [
    "print(someNames[1...])    // Rango parcial: desde el 1 hasta el final, inclusive"
   ]
  },
  {
   "cell_type": "code",
   "execution_count": 84,
   "metadata": {},
   "outputs": [
    {
     "name": "stdout",
     "output_type": "stream",
     "text": [
      "[\"pedro\", \"ana\"]\r\n"
     ]
    }
   ],
   "source": [
    "print(someNames[..<2])    // Rango parcial: los dos primeros"
   ]
  },
  {
   "cell_type": "markdown",
   "metadata": {},
   "source": [
    "-----"
   ]
  },
  {
   "cell_type": "markdown",
   "metadata": {},
   "source": [
    "## Filtros y transformaciones funcionales"
   ]
  },
  {
   "cell_type": "markdown",
   "metadata": {},
   "source": [
    "En lugar de utilizar bucles, muchas veces podemos aplicar funciones de transformación para actuar sobre los elementos de una colección. Estas funciones aceptan como argumento otras funciones, que son las que aplicamos a cada elemento de la colección.\n",
    "\n",
    "El código que se genera es muy conciso y, además, muy eficiente.\n",
    "\n",
    "Veámoslo con ejemplos."
   ]
  },
  {
   "cell_type": "markdown",
   "metadata": {},
   "source": [
    "### `map`"
   ]
  },
  {
   "cell_type": "markdown",
   "metadata": {},
   "source": [
    "Versión iterativa:"
   ]
  },
  {
   "cell_type": "code",
   "execution_count": 85,
   "metadata": {},
   "outputs": [
    {
     "name": "stdout",
     "output_type": "stream",
     "text": [
      "[1, 4, 9, 16, 25, 36, 49, 64, 81, 100]\r\n"
     ]
    }
   ],
   "source": [
    "// Obtiene los cuadrados de los 10 primeros números naturales\n",
    "var squares: [Int] = []\n",
    "for n in 1...10 {\n",
    "    squares.append(n * n)\n",
    "}\n",
    "\n",
    "print(squares)"
   ]
  },
  {
   "cell_type": "markdown",
   "metadata": {},
   "source": [
    "Versión funcional:"
   ]
  },
  {
   "cell_type": "code",
   "execution_count": 86,
   "metadata": {},
   "outputs": [
    {
     "name": "stdout",
     "output_type": "stream",
     "text": [
      "[1, 4, 9, 16, 25, 36, 49, 64, 81, 100]\r\n"
     ]
    }
   ],
   "source": [
    "let squares = (1...10).map { $0 * $0 }\n",
    "print(squares)"
   ]
  },
  {
   "cell_type": "markdown",
   "metadata": {},
   "source": [
    "**`map`** es una _función_ que recibe como argumento _otra función_, que aplica a cada uno de los elementos de la secuencia, y devuelve un `Array` con el resultado. Es decir `map` transforma de manera arbitraria los elementos con la función que le proporcionamos."
   ]
  },
  {
   "cell_type": "markdown",
   "metadata": {},
   "source": [
    "Si proporcionamos la función sobre la marcha, lo hacemos con llaves como en este ejemplo. Pero también podemos poner el nombre de cualquier función existente. Por ejemplo, si quisiéramos obtener el valor absoluto de los elementos de un array podríamos hacer:"
   ]
  },
  {
   "cell_type": "code",
   "execution_count": 87,
   "metadata": {},
   "outputs": [
    {
     "name": "stdout",
     "output_type": "stream",
     "text": [
      "[5, 3, 2, 0, 9, 7, 1]\r\n"
     ]
    }
   ],
   "source": [
    "let absoluteValues = [-5, 3, -2, 0, 9, -7, 1].map(abs)\n",
    "print(absoluteValues)"
   ]
  },
  {
   "cell_type": "markdown",
   "metadata": {},
   "source": [
    "En el primer caso, cuando hemos escrito el código de la función sobre la marcha, ¿por qué no la hemos puesto entre paréntesis, ya que es un argumento? Es un atajo para simplificar la sintaxis, pero podemos hacerlo:"
   ]
  },
  {
   "cell_type": "code",
   "execution_count": 88,
   "metadata": {},
   "outputs": [
    {
     "name": "stdout",
     "output_type": "stream",
     "text": [
      "[1, 4, 9, 16, 25, 36, 49, 64, 81, 100]\r\n"
     ]
    }
   ],
   "source": [
    "let squares = (1...10).map({ $0 * $0 })\n",
    "print(squares)"
   ]
  },
  {
   "cell_type": "markdown",
   "metadata": {},
   "source": [
    "Este atajo sólo podemos aplicarlo si la función o _closure_ es el último argumento de la invocación."
   ]
  },
  {
   "cell_type": "markdown",
   "metadata": {},
   "source": [
    "Del mismo modo, `$0` es un atajo para referirnos al primer argumento del _closure_; si hubiera más se podría utilizar `$1`, etc.\n",
    "\n",
    "Si queremos utilizar un nombre concreto en lugar del número, se hace de la siguiente manera:"
   ]
  },
  {
   "cell_type": "code",
   "execution_count": 89,
   "metadata": {},
   "outputs": [
    {
     "name": "stdout",
     "output_type": "stream",
     "text": [
      "[1, 4, 9, 16, 25, 36, 49, 64, 81, 100]\r\n"
     ]
    }
   ],
   "source": [
    "let squares = (1...10).map { number in number * number }\n",
    "print(squares)"
   ]
  },
  {
   "cell_type": "markdown",
   "metadata": {},
   "source": [
    "Obsérvese también que la función que hemos utilizado no devuelve nada, no usa `return`. Esto es también otro atajo para simplificar el código. La versión completa sin ningún atajo sería:"
   ]
  },
  {
   "cell_type": "code",
   "execution_count": 90,
   "metadata": {},
   "outputs": [
    {
     "name": "stdout",
     "output_type": "stream",
     "text": [
      "[1, 4, 9, 16, 25, 36, 49, 64, 81, 100]\r\n"
     ]
    }
   ],
   "source": [
    "let squares = (1...10).map({ number in\n",
    "    return number * number\n",
    "})\n",
    "print(squares)"
   ]
  },
  {
   "cell_type": "markdown",
   "metadata": {},
   "source": [
    "Esta es la versión real que usa el compilador, pero es mucho más fácil y conveniente utilizar la versión abreviada, que repetimos de nuevo:"
   ]
  },
  {
   "cell_type": "code",
   "execution_count": 91,
   "metadata": {},
   "outputs": [
    {
     "name": "stdout",
     "output_type": "stream",
     "text": [
      "[1, 4, 9, 16, 25, 36, 49, 64, 81, 100]\r\n"
     ]
    }
   ],
   "source": [
    "let squares = (1...10).map({ $0 * $0 })\n",
    "print(squares)"
   ]
  },
  {
   "cell_type": "markdown",
   "metadata": {},
   "source": [
    "`map` y el resto de funciones de este apartado pueden utilizarse sobre Arrays, rangos y otras _secuencias_."
   ]
  },
  {
   "cell_type": "markdown",
   "metadata": {},
   "source": [
    "**Ejercicio 3**\n",
    "\n",
    "`count` es una propiedad de `String` que devuelve el número de caracteres de la cadena. Por ejemplo, `\"hola\".count` devolvería el valor 4.\n",
    "\n",
    "Escribe una función que, dado un array de cadenas, devuelva otro array de enteros con las longitudes de esas cadenas. Es decir, dada la entrada `[\"pedro\", \"pablo\", \"javier\"]`, devolvería el array `[5, 5, 6]`.\n",
    "\n",
    "Intenta resolver el problema con una aproximación funcional.\n",
    "\n",
    "Como siempre, utiliza nombres sensatos y descriptivos para la función y para todas las variables que utilices."
   ]
  },
  {
   "cell_type": "code",
   "execution_count": null,
   "metadata": {},
   "outputs": [],
   "source": []
  },
  {
   "cell_type": "markdown",
   "metadata": {},
   "source": [
    "### `filter`"
   ]
  },
  {
   "cell_type": "markdown",
   "metadata": {},
   "source": [
    "La función `filter` _filtra_ o selecciona los elementos de una secuencia que cumplen una condición. Para ello, hay que pasarle como argumento una función que devuelve `true` si el elemento debe incluirse en el resultado, o `false` en caso contrario."
   ]
  },
  {
   "cell_type": "markdown",
   "metadata": {},
   "source": [
    "Ejemplo: seleccionamos de una secuencia los números pares. El operador `%` calcula el módulo (~resto) de la división entera: el número es par si el resto de dividir entre `2` es `0`."
   ]
  },
  {
   "cell_type": "code",
   "execution_count": 93,
   "metadata": {},
   "outputs": [
    {
     "name": "stdout",
     "output_type": "stream",
     "text": [
      "[0, 2, 4, 6, 8, 10]\r\n"
     ]
    }
   ],
   "source": [
    "print((0...10).filter { $0 % 2 == 0 })"
   ]
  },
  {
   "cell_type": "markdown",
   "metadata": {},
   "source": [
    "**Ejercicio 4**\n",
    "\n",
    "Escribe una función que obtenga los números cuadrados pares de los primeros N números positivos. Para N = 10, el resultado debe ser `[4, 16, 36, 64, 100]`."
   ]
  },
  {
   "cell_type": "code",
   "execution_count": null,
   "metadata": {},
   "outputs": [],
   "source": []
  },
  {
   "cell_type": "markdown",
   "metadata": {},
   "source": [
    "### `reduce`"
   ]
  },
  {
   "cell_type": "markdown",
   "metadata": {},
   "source": [
    "Esta función transforma una secuencia en un único elemento. Veamos un ejemplo que suma los 10 primeros números naturales:"
   ]
  },
  {
   "cell_type": "code",
   "execution_count": 95,
   "metadata": {},
   "outputs": [
    {
     "name": "stdout",
     "output_type": "stream",
     "text": [
      "55\r\n"
     ]
    }
   ],
   "source": [
    "print((1...10).reduce(0, +))"
   ]
  },
  {
   "cell_type": "markdown",
   "metadata": {},
   "source": [
    "`reduce` acepta dos argumentos:\n",
    "* El valor inicial con el que comenzamos a hacer los cálculos.\n",
    "* Una función que debe aceptar _dos_ argumentos:\n",
    "  - El resultado que llevamos hasta el momento. La primera vez que se llama, el resultado es el valor inicial que hemos indicado.\n",
    "  - El siguiente elemento de la secuencia."
   ]
  },
  {
   "cell_type": "markdown",
   "metadata": {},
   "source": [
    "En el caso del ejemplo, la función que hemos utilizado es simplemente `+`! Podríamos haber utilizado otra función que estuviera definida en cualquier sitio, o un closure definido con `{ ... }`."
   ]
  },
  {
   "cell_type": "markdown",
   "metadata": {},
   "source": [
    "Todas estas funciones también se pueden aplicar a **diccionarios**, no sólo a arrays o rangos."
   ]
  },
  {
   "cell_type": "markdown",
   "metadata": {},
   "source": [
    "A continuación vemos un ejemplo en el que aplicamos `reduce` a un diccionario para calcular una suma total."
   ]
  },
  {
   "cell_type": "code",
   "execution_count": 96,
   "metadata": {},
   "outputs": [],
   "source": [
    "var miCompra = [\n",
    "    \"Cebollas\": 1.5,\n",
    "    \"Patatas\": 5,\n",
    "    \"Huevos\": 3,\n",
    "    \"Pollo\": 8,\n",
    "    \"Garbanzos\": 4,\n",
    "    \"Detergente\": 8.5\n",
    "]"
   ]
  },
  {
   "cell_type": "code",
   "execution_count": 97,
   "metadata": {},
   "outputs": [
    {
     "name": "stdout",
     "output_type": "stream",
     "text": [
      "Dictionary<String, Double>\r\n"
     ]
    }
   ],
   "source": [
    "print(type(of: miCompra))"
   ]
  },
  {
   "cell_type": "code",
   "execution_count": 109,
   "metadata": {},
   "outputs": [],
   "source": [
    "let total = miCompra.reduce(0.0) { (subtotal, tupla) in\n",
    "    let (_, precio) = tupla\n",
    "    return subtotal + precio\n",
    "}"
   ]
  },
  {
   "cell_type": "code",
   "execution_count": 110,
   "metadata": {},
   "outputs": [
    {
     "name": "stdout",
     "output_type": "stream",
     "text": [
      "30.0\r\n"
     ]
    }
   ],
   "source": [
    "print(total)"
   ]
  },
  {
   "cell_type": "markdown",
   "metadata": {},
   "source": [
    "En este caso, al closure que de `reduce` se le pasa como segundo argumento una **tupla** con los dos componentes de cada elemento del diccionario: su clave y su valor. En la línea 2 de la celda anterior desempaquetamos la tupla en sus dos componentes e ignoramos el nombre del artículo, pues para este ejemplo no nos interesa."
   ]
  },
  {
   "cell_type": "markdown",
   "metadata": {},
   "source": [
    "Se podría hacer el código más corto, pero quizá quede menos claro a menos que sepamos lo que estamos haciendo:"
   ]
  },
  {
   "cell_type": "code",
   "execution_count": 111,
   "metadata": {},
   "outputs": [],
   "source": [
    "let total = miCompra.reduce(0.0) { return $0 + $1.value }"
   ]
  },
  {
   "cell_type": "code",
   "execution_count": 112,
   "metadata": {},
   "outputs": [
    {
     "name": "stdout",
     "output_type": "stream",
     "text": [
      "30.0\r\n"
     ]
    }
   ],
   "source": [
    "print(total)"
   ]
  },
  {
   "cell_type": "markdown",
   "metadata": {},
   "source": [
    "Los parámetros a la función de `reduce` son, en el caso de diccionarios:\n",
    "* `$0`: el resultado acumulado hasta el momento.\n",
    "* `$1`: tupla con componentes `key` and `value` de los elementos del diccionario.\n",
    "  * `$1.key`: clave del elemento del diccionario que se está visitando en este momento.\n",
    "  * `$1.value`: valor del mismo elemento."
   ]
  },
  {
   "cell_type": "markdown",
   "metadata": {},
   "source": [
    "-----"
   ]
  },
  {
   "cell_type": "markdown",
   "metadata": {},
   "source": [
    "**Ejercicio 5**: crea una función que devuelva en un array los N primeros números de Fibonacci. Los números de Fibonacci son una secuencia definida como:\n",
    "* El primer elemento es 0 y el segundo el 1.\n",
    "* Cada número (a partir del tercero) es el resultado de sumar los dos anteriores.\n",
    "\n",
    "Es decir, si la función se llama `fibonacci`, el resultado de ejecutar la función de este modo:\n",
    "\n",
    "```swift\n",
    "print(fibonacci(count: 10))\n",
    "```\n",
    "\n",
    "Sería:\n",
    "```\n",
    "[0, 1, 1, 2, 3, 5, 8, 13, 21, 34]\n",
    "```\n",
    "\n",
    "Prueba a implementar el código tanto de manera iterativa como _recursivamente_."
   ]
  },
  {
   "cell_type": "markdown",
   "metadata": {},
   "source": [
    "**Implementación iterativa**"
   ]
  },
  {
   "cell_type": "code",
   "execution_count": 133,
   "metadata": {},
   "outputs": [],
   "source": []
  },
  {
   "cell_type": "code",
   "execution_count": 142,
   "metadata": {},
   "outputs": [
    {
     "name": "stdout",
     "output_type": "stream",
     "text": [
      "[0, 1, 1, 2, 3, 5, 8, 13, 21, 34]\r\n"
     ]
    }
   ],
   "source": [
    "print(fibonacci(count: 10))"
   ]
  },
  {
   "cell_type": "markdown",
   "metadata": {},
   "source": [
    "**Implementación recursiva y funcional**"
   ]
  },
  {
   "cell_type": "markdown",
   "metadata": {},
   "source": [
    "Para esta implementación, recomiendo lo siguiente:\n",
    "* Escribe una función _recursiva_ que devuelva solamente el número de Fibonacci que se encuentra en una posición determinada. Por ejemplo, el número de Fibonacci en la posición 0 sería el 0, y el de la posición 9 sería el `34`.\n",
    "\n",
    "La gracia de las funciones recursivas es que podemos utilizarlas desde dentro de la propia función. Esto nos permite aplicar directamente la definición: el número de Fibonacci de `N` es el resultado de sumar los dos números de Fibonacci anteriores.\n",
    "\n",
    "* Escribe otra función que obtenga la lista de números funcionales apoyándose en la función que obtiene los números sueltos."
   ]
  },
  {
   "cell_type": "code",
   "execution_count": null,
   "metadata": {},
   "outputs": [],
   "source": []
  },
  {
   "cell_type": "markdown",
   "metadata": {},
   "source": [
    "**`guard`**"
   ]
  },
  {
   "cell_type": "code",
   "execution_count": null,
   "metadata": {},
   "outputs": [],
   "source": []
  }
 ],
 "metadata": {
  "kernelspec": {
   "display_name": "Swift",
   "language": "swift",
   "name": "swift"
  },
  "language_info": {
   "file_extension": ".swift",
   "mimetype": "text/x-swift",
   "name": "swift",
   "version": ""
  }
 },
 "nbformat": 4,
 "nbformat_minor": 4
}
